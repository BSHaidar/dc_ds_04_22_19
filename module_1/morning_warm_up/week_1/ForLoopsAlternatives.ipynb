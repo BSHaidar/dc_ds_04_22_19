{
 "cells": [
  {
   "cell_type": "markdown",
   "metadata": {},
   "source": [
    "Given an array of integers, return the index of of the target number - try doing it with a for loop. Notice that the target number can repeat several times.\n",
    "\n",
    "Example:\n",
    "Given nums = [2, 9, 11, 15], target = 9,\n",
    "\n",
    "Because nums[1] = 9\n",
    "\n",
    "return [1].\n",
    "\n"
   ]
  },
  {
   "cell_type": "code",
   "execution_count": 1,
   "metadata": {},
   "outputs": [
    {
     "name": "stdout",
     "output_type": "stream",
     "text": [
      "Please enter your list of numbers seperated by a space, hit enter when done: 1 1 2 3 4 5 6 7 8 9 2 1 9 4 6 9\n"
     ]
    }
   ],
   "source": [
    "num_list = []\n",
    "s = input(\"Please enter your list of numbers seperated by a space, hit enter when done: \")\n",
    "num_list = list(map(int, s.split()))"
   ]
  },
  {
   "cell_type": "code",
   "execution_count": 21,
   "metadata": {},
   "outputs": [
    {
     "name": "stdout",
     "output_type": "stream",
     "text": [
      "Please enter your target number: 9\n"
     ]
    }
   ],
   "source": [
    "target_number = int(input(\"Please enter your target number: \"))"
   ]
  },
  {
   "cell_type": "code",
   "execution_count": 22,
   "metadata": {},
   "outputs": [],
   "source": [
    "count = -1\n",
    "index_list = []\n",
    "for num in num_list:\n",
    "    count += 1\n",
    "    if num == target_number:\n",
    "        index_list.append(count)"
   ]
  },
  {
   "cell_type": "code",
   "execution_count": 23,
   "metadata": {},
   "outputs": [
    {
     "data": {
      "text/plain": [
       "[9, 12, 15]"
      ]
     },
     "execution_count": 23,
     "metadata": {},
     "output_type": "execute_result"
    }
   ],
   "source": [
    "index_list"
   ]
  },
  {
   "cell_type": "markdown",
   "metadata": {},
   "source": [
    "[optional I] - solve with for loops\n",
    "You have an array of integers, return indices of the two numbers such that they add to a target. Assume that each input would have exactly one solution, and you may not use the same element twice. Given nums = [2, 7, 11, 15], target = 9,\n",
    "\n",
    "Example\n",
    "Because nums[0] + nums[1] = 2 + 7 = 9, return [0, 1].\n",
    "\n",
    "[optional II] - solve the same with only one loop and a dictionary"
   ]
  },
  {
   "cell_type": "code",
   "execution_count": 25,
   "metadata": {},
   "outputs": [
    {
     "name": "stdout",
     "output_type": "stream",
     "text": [
      "[4, 5]\n",
      "[3, 6]\n",
      "[2, 7]\n",
      "[1, 8]\n",
      "[7, 10]\n",
      "[8, 11]\n",
      "[5, 13]\n",
      "[3, 14]\n"
     ]
    }
   ],
   "source": [
    "my_dict = {}\n",
    "for index, value in enumerate(num_list):\n",
    "    if value in my_dict:\n",
    "        print([my_dict[value], index])\n",
    "    my_dict[target_number - value] = index"
   ]
  },
  {
   "cell_type": "code",
   "execution_count": null,
   "metadata": {},
   "outputs": [],
   "source": []
  }
 ],
 "metadata": {
  "kernelspec": {
   "display_name": "Python 3",
   "language": "python",
   "name": "python3"
  },
  "language_info": {
   "codemirror_mode": {
    "name": "ipython",
    "version": 3
   },
   "file_extension": ".py",
   "mimetype": "text/x-python",
   "name": "python",
   "nbconvert_exporter": "python",
   "pygments_lexer": "ipython3",
   "version": "3.6.5"
  }
 },
 "nbformat": 4,
 "nbformat_minor": 2
}
