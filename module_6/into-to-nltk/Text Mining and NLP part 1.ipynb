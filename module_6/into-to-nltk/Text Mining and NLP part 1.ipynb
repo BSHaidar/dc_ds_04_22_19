{
 "cells": [
  {
   "cell_type": "markdown",
   "metadata": {},
   "source": [
    "## Text Mining\n",
    "\n",
    "![miners](img/text-miners.jpeg)"
   ]
  },
  {
   "cell_type": "markdown",
   "metadata": {},
   "source": [
    "## Part 1\n",
    "\n",
    "### Situation:\n",
    "\n",
    "![greg](img/thinking.jpeg)\n",
    "\n",
    "Last week we helped Greg build a model to sort through articles, but we rushed through the pre-processing of it all. This lesson we will go through it step by step."
   ]
  },
  {
   "cell_type": "markdown",
   "metadata": {},
   "source": [
    "### Discussion\n",
    "\n",
    "- What type of problem is this?\n",
    "- What are we trying to do?\n",
    "- What steps do you think might be involved? (big picture steps)\n",
    "\n",
    "![talk](https://media.giphy.com/media/l2SpQRuCQzY1RXHqM/giphy.gif)"
   ]
  },
  {
   "cell_type": "markdown",
   "metadata": {},
   "source": [
    "### **Goal**: to internalize the steps, challenges, and methodology of text mining\n",
    "- explore text analysis by hand\n",
    "- apply text mining steps in Jupyter with Python libraries NLTK\n",
    "- classify documents correctly"
   ]
  },
  {
   "cell_type": "markdown",
   "metadata": {},
   "source": [
    "#### How is text mining different? What is text?\n",
    "\n",
    "- Order the words from **SMALLEST** to **LARGEST** units\n",
    " - character\n",
    " - corpora\n",
    " - sentence\n",
    " - word\n",
    " - corpus\n",
    " - paragraph\n",
    " - document\n",
    "\n",
    "(after it is all organized)\n",
    "\n",
    "- Any disagreements about the terms used?"
   ]
  },
  {
   "cell_type": "markdown",
   "metadata": {},
   "source": [
    "### Steps with articles:\n",
    "\n",
    "https://github.com/aapeebles/text_examples \n",
    "\n",
    "1. Create list of words\n",
    "2. tally how many times words are used\n",
    "3. order the words by frequency\n",
    "4. try to find similar articles in the group using only your frequencies \n",
    "\n",
    "\n",
    "Yes, the list might might be long.\n",
    "![list](https://media.giphy.com/media/YLHwkqayc1j7a/giphy.gif)\n",
    "\n",
    "DISCUSS!"
   ]
  },
  {
   "cell_type": "code",
   "execution_count": 5,
   "metadata": {},
   "outputs": [],
   "source": [
    "text_b = \"Tsunami debt deal to be announced \\\n",
    "\\\n",
    "Chancellor Gordon Brown has said he hopes to announce a deal to suspend debt interest repayments by tsunami-hit nations later on Friday.\\\n",
    "\\\n",
    "The agreement by the G8 group of wealthy nations would save affected countries £3bn pounds a year, he said. The deal is thought to have been hammered out on Thursday night after Japan, one of the biggest creditor nations, finally signed up to it. Mr Brown first proposed the idea earlier this week.\\\n",
    "\\\n",
    "G8 ministers are also believed to have agreed to instruct the World Bank and the International Monetary Fund to complete a country by country analysis of the reconstruction problems faced by all states hit by the disaster. Mr Brown has been locked in talks with finance ministers of the G8, which Britain now chairs. Germany also proposed a freeze and Canada has begun its own moratorium. The expected deal comes as Foreign Secretary Jack Straw said the number of Britons dead or missing in the disaster have reached 440.\""
   ]
  },
  {
   "cell_type": "code",
   "execution_count": 8,
   "metadata": {},
   "outputs": [],
   "source": [
    "split_words = []\n",
    "split_words=text_b.split()\n"
   ]
  },
  {
   "cell_type": "code",
   "execution_count": 9,
   "metadata": {
    "scrolled": true
   },
   "outputs": [
    {
     "data": {
      "text/plain": [
       "['Tsunami',\n",
       " 'debt',\n",
       " 'deal',\n",
       " 'to',\n",
       " 'be',\n",
       " 'announced',\n",
       " 'Chancellor',\n",
       " 'Gordon',\n",
       " 'Brown',\n",
       " 'has',\n",
       " 'said',\n",
       " 'he',\n",
       " 'hopes',\n",
       " 'to',\n",
       " 'announce',\n",
       " 'a',\n",
       " 'deal',\n",
       " 'to',\n",
       " 'suspend',\n",
       " 'debt',\n",
       " 'interest',\n",
       " 'repayments',\n",
       " 'by',\n",
       " 'tsunami-hit',\n",
       " 'nations',\n",
       " 'later',\n",
       " 'on',\n",
       " 'Friday.The',\n",
       " 'agreement',\n",
       " 'by',\n",
       " 'the',\n",
       " 'G8',\n",
       " 'group',\n",
       " 'of',\n",
       " 'wealthy',\n",
       " 'nations',\n",
       " 'would',\n",
       " 'save',\n",
       " 'affected',\n",
       " 'countries',\n",
       " '£3bn',\n",
       " 'pounds',\n",
       " 'a',\n",
       " 'year,',\n",
       " 'he',\n",
       " 'said.',\n",
       " 'The',\n",
       " 'deal',\n",
       " 'is',\n",
       " 'thought',\n",
       " 'to',\n",
       " 'have',\n",
       " 'been',\n",
       " 'hammered',\n",
       " 'out',\n",
       " 'on',\n",
       " 'Thursday',\n",
       " 'night',\n",
       " 'after',\n",
       " 'Japan,',\n",
       " 'one',\n",
       " 'of',\n",
       " 'the',\n",
       " 'biggest',\n",
       " 'creditor',\n",
       " 'nations,',\n",
       " 'finally',\n",
       " 'signed',\n",
       " 'up',\n",
       " 'to',\n",
       " 'it.',\n",
       " 'Mr',\n",
       " 'Brown',\n",
       " 'first',\n",
       " 'proposed',\n",
       " 'the',\n",
       " 'idea',\n",
       " 'earlier',\n",
       " 'this',\n",
       " 'week.G8',\n",
       " 'ministers',\n",
       " 'are',\n",
       " 'also',\n",
       " 'believed',\n",
       " 'to',\n",
       " 'have',\n",
       " 'agreed',\n",
       " 'to',\n",
       " 'instruct',\n",
       " 'the',\n",
       " 'World',\n",
       " 'Bank',\n",
       " 'and',\n",
       " 'the',\n",
       " 'International',\n",
       " 'Monetary',\n",
       " 'Fund',\n",
       " 'to',\n",
       " 'complete',\n",
       " 'a',\n",
       " 'country',\n",
       " 'by',\n",
       " 'country',\n",
       " 'analysis',\n",
       " 'of',\n",
       " 'the',\n",
       " 'reconstruction',\n",
       " 'problems',\n",
       " 'faced',\n",
       " 'by',\n",
       " 'all',\n",
       " 'states',\n",
       " 'hit',\n",
       " 'by',\n",
       " 'the',\n",
       " 'disaster.',\n",
       " 'Mr',\n",
       " 'Brown',\n",
       " 'has',\n",
       " 'been',\n",
       " 'locked',\n",
       " 'in',\n",
       " 'talks',\n",
       " 'with',\n",
       " 'finance',\n",
       " 'ministers',\n",
       " 'of',\n",
       " 'the',\n",
       " 'G8,',\n",
       " 'which',\n",
       " 'Britain',\n",
       " 'now',\n",
       " 'chairs.',\n",
       " 'Germany',\n",
       " 'also',\n",
       " 'proposed',\n",
       " 'a',\n",
       " 'freeze',\n",
       " 'and',\n",
       " 'Canada',\n",
       " 'has',\n",
       " 'begun',\n",
       " 'its',\n",
       " 'own',\n",
       " 'moratorium.',\n",
       " 'The',\n",
       " 'expected',\n",
       " 'deal',\n",
       " 'comes',\n",
       " 'as',\n",
       " 'Foreign',\n",
       " 'Secretary',\n",
       " 'Jack',\n",
       " 'Straw',\n",
       " 'said',\n",
       " 'the',\n",
       " 'number',\n",
       " 'of',\n",
       " 'Britons',\n",
       " 'dead',\n",
       " 'or',\n",
       " 'missing',\n",
       " 'in',\n",
       " 'the',\n",
       " 'disaster',\n",
       " 'have',\n",
       " 'reached',\n",
       " '440.']"
      ]
     },
     "execution_count": 9,
     "metadata": {},
     "output_type": "execute_result"
    }
   ],
   "source": [
    "split_words"
   ]
  },
  {
   "cell_type": "code",
   "execution_count": 25,
   "metadata": {},
   "outputs": [],
   "source": [
    "dict_word ={word:1 for word in split_words}\n"
   ]
  },
  {
   "cell_type": "code",
   "execution_count": 27,
   "metadata": {
    "scrolled": true
   },
   "outputs": [
    {
     "data": {
      "text/plain": [
       "{'Tsunami': 1,\n",
       " 'debt': 1,\n",
       " 'deal': 1,\n",
       " 'to': 1,\n",
       " 'be': 1,\n",
       " 'announced': 1,\n",
       " 'Chancellor': 1,\n",
       " 'Gordon': 1,\n",
       " 'Brown': 1,\n",
       " 'has': 1,\n",
       " 'said': 1,\n",
       " 'he': 1,\n",
       " 'hopes': 1,\n",
       " 'announce': 1,\n",
       " 'a': 1,\n",
       " 'suspend': 1,\n",
       " 'interest': 1,\n",
       " 'repayments': 1,\n",
       " 'by': 1,\n",
       " 'tsunami-hit': 1,\n",
       " 'nations': 1,\n",
       " 'later': 1,\n",
       " 'on': 1,\n",
       " 'Friday.The': 1,\n",
       " 'agreement': 1,\n",
       " 'the': 1,\n",
       " 'G8': 1,\n",
       " 'group': 1,\n",
       " 'of': 1,\n",
       " 'wealthy': 1,\n",
       " 'would': 1,\n",
       " 'save': 1,\n",
       " 'affected': 1,\n",
       " 'countries': 1,\n",
       " '£3bn': 1,\n",
       " 'pounds': 1,\n",
       " 'year,': 1,\n",
       " 'said.': 1,\n",
       " 'The': 1,\n",
       " 'is': 1,\n",
       " 'thought': 1,\n",
       " 'have': 1,\n",
       " 'been': 1,\n",
       " 'hammered': 1,\n",
       " 'out': 1,\n",
       " 'Thursday': 1,\n",
       " 'night': 1,\n",
       " 'after': 1,\n",
       " 'Japan,': 1,\n",
       " 'one': 1,\n",
       " 'biggest': 1,\n",
       " 'creditor': 1,\n",
       " 'nations,': 1,\n",
       " 'finally': 1,\n",
       " 'signed': 1,\n",
       " 'up': 1,\n",
       " 'it.': 1,\n",
       " 'Mr': 1,\n",
       " 'first': 1,\n",
       " 'proposed': 1,\n",
       " 'idea': 1,\n",
       " 'earlier': 1,\n",
       " 'this': 1,\n",
       " 'week.G8': 1,\n",
       " 'ministers': 1,\n",
       " 'are': 1,\n",
       " 'also': 1,\n",
       " 'believed': 1,\n",
       " 'agreed': 1,\n",
       " 'instruct': 1,\n",
       " 'World': 1,\n",
       " 'Bank': 1,\n",
       " 'and': 1,\n",
       " 'International': 1,\n",
       " 'Monetary': 1,\n",
       " 'Fund': 1,\n",
       " 'complete': 1,\n",
       " 'country': 1,\n",
       " 'analysis': 1,\n",
       " 'reconstruction': 1,\n",
       " 'problems': 1,\n",
       " 'faced': 1,\n",
       " 'all': 1,\n",
       " 'states': 1,\n",
       " 'hit': 1,\n",
       " 'disaster.': 1,\n",
       " 'locked': 1,\n",
       " 'in': 1,\n",
       " 'talks': 1,\n",
       " 'with': 1,\n",
       " 'finance': 1,\n",
       " 'G8,': 1,\n",
       " 'which': 1,\n",
       " 'Britain': 1,\n",
       " 'now': 1,\n",
       " 'chairs.': 1,\n",
       " 'Germany': 1,\n",
       " 'freeze': 1,\n",
       " 'Canada': 1,\n",
       " 'begun': 1,\n",
       " 'its': 1,\n",
       " 'own': 1,\n",
       " 'moratorium.': 1,\n",
       " 'expected': 1,\n",
       " 'comes': 1,\n",
       " 'as': 1,\n",
       " 'Foreign': 1,\n",
       " 'Secretary': 1,\n",
       " 'Jack': 1,\n",
       " 'Straw': 1,\n",
       " 'number': 1,\n",
       " 'Britons': 1,\n",
       " 'dead': 1,\n",
       " 'or': 1,\n",
       " 'missing': 1,\n",
       " 'disaster': 1,\n",
       " 'reached': 1,\n",
       " '440.': 1}"
      ]
     },
     "execution_count": 27,
     "metadata": {},
     "output_type": "execute_result"
    }
   ],
   "source": [
    "dict_word \n"
   ]
  },
  {
   "cell_type": "code",
   "execution_count": 28,
   "metadata": {},
   "outputs": [],
   "source": [
    "for word in split_words:\n",
    "    dict_word[word] +=1 "
   ]
  },
  {
   "cell_type": "code",
   "execution_count": 29,
   "metadata": {
    "collapsed": true
   },
   "outputs": [
    {
     "data": {
      "text/plain": [
       "{'Tsunami': 2,\n",
       " 'debt': 3,\n",
       " 'deal': 5,\n",
       " 'to': 9,\n",
       " 'be': 2,\n",
       " 'announced': 2,\n",
       " 'Chancellor': 2,\n",
       " 'Gordon': 2,\n",
       " 'Brown': 4,\n",
       " 'has': 4,\n",
       " 'said': 3,\n",
       " 'he': 3,\n",
       " 'hopes': 2,\n",
       " 'announce': 2,\n",
       " 'a': 5,\n",
       " 'suspend': 2,\n",
       " 'interest': 2,\n",
       " 'repayments': 2,\n",
       " 'by': 6,\n",
       " 'tsunami-hit': 2,\n",
       " 'nations': 3,\n",
       " 'later': 2,\n",
       " 'on': 3,\n",
       " 'Friday.The': 2,\n",
       " 'agreement': 2,\n",
       " 'the': 11,\n",
       " 'G8': 2,\n",
       " 'group': 2,\n",
       " 'of': 6,\n",
       " 'wealthy': 2,\n",
       " 'would': 2,\n",
       " 'save': 2,\n",
       " 'affected': 2,\n",
       " 'countries': 2,\n",
       " '£3bn': 2,\n",
       " 'pounds': 2,\n",
       " 'year,': 2,\n",
       " 'said.': 2,\n",
       " 'The': 3,\n",
       " 'is': 2,\n",
       " 'thought': 2,\n",
       " 'have': 4,\n",
       " 'been': 3,\n",
       " 'hammered': 2,\n",
       " 'out': 2,\n",
       " 'Thursday': 2,\n",
       " 'night': 2,\n",
       " 'after': 2,\n",
       " 'Japan,': 2,\n",
       " 'one': 2,\n",
       " 'biggest': 2,\n",
       " 'creditor': 2,\n",
       " 'nations,': 2,\n",
       " 'finally': 2,\n",
       " 'signed': 2,\n",
       " 'up': 2,\n",
       " 'it.': 2,\n",
       " 'Mr': 3,\n",
       " 'first': 2,\n",
       " 'proposed': 3,\n",
       " 'idea': 2,\n",
       " 'earlier': 2,\n",
       " 'this': 2,\n",
       " 'week.G8': 2,\n",
       " 'ministers': 3,\n",
       " 'are': 2,\n",
       " 'also': 3,\n",
       " 'believed': 2,\n",
       " 'agreed': 2,\n",
       " 'instruct': 2,\n",
       " 'World': 2,\n",
       " 'Bank': 2,\n",
       " 'and': 3,\n",
       " 'International': 2,\n",
       " 'Monetary': 2,\n",
       " 'Fund': 2,\n",
       " 'complete': 2,\n",
       " 'country': 3,\n",
       " 'analysis': 2,\n",
       " 'reconstruction': 2,\n",
       " 'problems': 2,\n",
       " 'faced': 2,\n",
       " 'all': 2,\n",
       " 'states': 2,\n",
       " 'hit': 2,\n",
       " 'disaster.': 2,\n",
       " 'locked': 2,\n",
       " 'in': 3,\n",
       " 'talks': 2,\n",
       " 'with': 2,\n",
       " 'finance': 2,\n",
       " 'G8,': 2,\n",
       " 'which': 2,\n",
       " 'Britain': 2,\n",
       " 'now': 2,\n",
       " 'chairs.': 2,\n",
       " 'Germany': 2,\n",
       " 'freeze': 2,\n",
       " 'Canada': 2,\n",
       " 'begun': 2,\n",
       " 'its': 2,\n",
       " 'own': 2,\n",
       " 'moratorium.': 2,\n",
       " 'expected': 2,\n",
       " 'comes': 2,\n",
       " 'as': 2,\n",
       " 'Foreign': 2,\n",
       " 'Secretary': 2,\n",
       " 'Jack': 2,\n",
       " 'Straw': 2,\n",
       " 'number': 2,\n",
       " 'Britons': 2,\n",
       " 'dead': 2,\n",
       " 'or': 2,\n",
       " 'missing': 2,\n",
       " 'disaster': 2,\n",
       " 'reached': 2,\n",
       " '440.': 2}"
      ]
     },
     "execution_count": 29,
     "metadata": {},
     "output_type": "execute_result"
    }
   ],
   "source": [
    "dict_word"
   ]
  },
  {
   "cell_type": "code",
   "execution_count": null,
   "metadata": {},
   "outputs": [],
   "source": [
    "dict_word.get()"
   ]
  },
  {
   "cell_type": "code",
   "execution_count": 35,
   "metadata": {},
   "outputs": [
    {
     "data": {
      "text/plain": [
       "[('the', 11),\n",
       " ('to', 9),\n",
       " ('by', 6),\n",
       " ('of', 6),\n",
       " ('deal', 5),\n",
       " ('a', 5),\n",
       " ('Brown', 4),\n",
       " ('has', 4),\n",
       " ('have', 4),\n",
       " ('debt', 3),\n",
       " ('said', 3),\n",
       " ('he', 3),\n",
       " ('nations', 3),\n",
       " ('on', 3),\n",
       " ('The', 3),\n",
       " ('been', 3),\n",
       " ('Mr', 3),\n",
       " ('proposed', 3),\n",
       " ('ministers', 3),\n",
       " ('also', 3),\n",
       " ('and', 3),\n",
       " ('country', 3),\n",
       " ('in', 3),\n",
       " ('Tsunami', 2),\n",
       " ('be', 2),\n",
       " ('announced', 2),\n",
       " ('Chancellor', 2),\n",
       " ('Gordon', 2),\n",
       " ('hopes', 2),\n",
       " ('announce', 2),\n",
       " ('suspend', 2),\n",
       " ('interest', 2),\n",
       " ('repayments', 2),\n",
       " ('tsunami-hit', 2),\n",
       " ('later', 2),\n",
       " ('Friday.The', 2),\n",
       " ('agreement', 2),\n",
       " ('G8', 2),\n",
       " ('group', 2),\n",
       " ('wealthy', 2),\n",
       " ('would', 2),\n",
       " ('save', 2),\n",
       " ('affected', 2),\n",
       " ('countries', 2),\n",
       " ('£3bn', 2),\n",
       " ('pounds', 2),\n",
       " ('year,', 2),\n",
       " ('said.', 2),\n",
       " ('is', 2),\n",
       " ('thought', 2),\n",
       " ('hammered', 2),\n",
       " ('out', 2),\n",
       " ('Thursday', 2),\n",
       " ('night', 2),\n",
       " ('after', 2),\n",
       " ('Japan,', 2),\n",
       " ('one', 2),\n",
       " ('biggest', 2),\n",
       " ('creditor', 2),\n",
       " ('nations,', 2),\n",
       " ('finally', 2),\n",
       " ('signed', 2),\n",
       " ('up', 2),\n",
       " ('it.', 2),\n",
       " ('first', 2),\n",
       " ('idea', 2),\n",
       " ('earlier', 2),\n",
       " ('this', 2),\n",
       " ('week.G8', 2),\n",
       " ('are', 2),\n",
       " ('believed', 2),\n",
       " ('agreed', 2),\n",
       " ('instruct', 2),\n",
       " ('World', 2),\n",
       " ('Bank', 2),\n",
       " ('International', 2),\n",
       " ('Monetary', 2),\n",
       " ('Fund', 2),\n",
       " ('complete', 2),\n",
       " ('analysis', 2),\n",
       " ('reconstruction', 2),\n",
       " ('problems', 2),\n",
       " ('faced', 2),\n",
       " ('all', 2),\n",
       " ('states', 2),\n",
       " ('hit', 2),\n",
       " ('disaster.', 2),\n",
       " ('locked', 2),\n",
       " ('talks', 2),\n",
       " ('with', 2),\n",
       " ('finance', 2),\n",
       " ('G8,', 2),\n",
       " ('which', 2),\n",
       " ('Britain', 2),\n",
       " ('now', 2),\n",
       " ('chairs.', 2),\n",
       " ('Germany', 2),\n",
       " ('freeze', 2),\n",
       " ('Canada', 2),\n",
       " ('begun', 2),\n",
       " ('its', 2),\n",
       " ('own', 2),\n",
       " ('moratorium.', 2),\n",
       " ('expected', 2),\n",
       " ('comes', 2),\n",
       " ('as', 2),\n",
       " ('Foreign', 2),\n",
       " ('Secretary', 2),\n",
       " ('Jack', 2),\n",
       " ('Straw', 2),\n",
       " ('number', 2),\n",
       " ('Britons', 2),\n",
       " ('dead', 2),\n",
       " ('or', 2),\n",
       " ('missing', 2),\n",
       " ('disaster', 2),\n",
       " ('reached', 2),\n",
       " ('440.', 2)]"
      ]
     },
     "execution_count": 35,
     "metadata": {},
     "output_type": "execute_result"
    }
   ],
   "source": [
    "sorted(dict_word.items(), key=lambda x: x[1], reverse=True)"
   ]
  },
  {
   "cell_type": "markdown",
   "metadata": {},
   "source": [
    "### Bag of Words Steps\n",
    "\n",
    "<img style=\"float: left\" src=\"./img/bag_of_word.jpg\" width=\"200\">\n",
    "\n",
    "![step by step](https://i.gifer.com/VxbJ.gif)\n",
    "\n",
    "1. make all lower case\n",
    "2. Remove punctuation, numbers, symbols, etc\n",
    "3. Remove stop words, perhaps develop custom stop words list\n",
    "4. Stemming/Lemmatization\n",
    "\n",
    "\n",
    "But what about tokenization? when's the best time to tokenize?"
   ]
  },
  {
   "cell_type": "code",
   "execution_count": 38,
   "metadata": {},
   "outputs": [
    {
     "name": "stdout",
     "output_type": "stream",
     "text": [
      "Collecting nltk\n",
      "\u001b[?25l  Downloading https://files.pythonhosted.org/packages/87/16/4d247e27c55a7b6412e7c4c86f2500ae61afcbf5932b9e3491f8462f8d9e/nltk-3.4.4.zip (1.5MB)\n",
      "\u001b[K     |████████████████████████████████| 1.5MB 5.2MB/s eta 0:00:01\n",
      "\u001b[?25hRequirement already satisfied: six in /anaconda3/envs/flatiron/lib/python3.7/site-packages (from nltk) (1.12.0)\n",
      "Building wheels for collected packages: nltk\n",
      "  Building wheel for nltk (setup.py) ... \u001b[?25ldone\n",
      "\u001b[?25h  Stored in directory: /Users/basselhaidar/Library/Caches/pip/wheels/41/c8/31/48ace4468e236e0e8435f30d33e43df48594e4d53e367cf061\n",
      "Successfully built nltk\n",
      "Installing collected packages: nltk\n",
      "Successfully installed nltk-3.4.4\n",
      "Note: you may need to restart the kernel to use updated packages.\n"
     ]
    }
   ],
   "source": [
    "pip install nltk"
   ]
  },
  {
   "cell_type": "markdown",
   "metadata": {},
   "source": [
    "## New library!\n",
    "\n",
    "while we have seen language processing tools in spark, NLTK is its own python library. And of course, it has its own [documentation](https://www.nltk.org/)"
   ]
  },
  {
   "cell_type": "code",
   "execution_count": 39,
   "metadata": {
    "scrolled": true
   },
   "outputs": [],
   "source": [
    "\n",
    "from __future__ import print_function\n",
    "import nltk\n",
    "import sklearn"
   ]
  },
  {
   "cell_type": "code",
   "execution_count": 40,
   "metadata": {},
   "outputs": [],
   "source": [
    "#nltk.download() #for when you are bringing in files from gutenburg, etf"
   ]
  },
  {
   "cell_type": "code",
   "execution_count": 41,
   "metadata": {},
   "outputs": [],
   "source": [
    "from nltk.collocations import *\n",
    "from nltk import FreqDist, word_tokenize\n",
    "import string, re\n",
    "import urllib"
   ]
  },
  {
   "cell_type": "code",
   "execution_count": 43,
   "metadata": {},
   "outputs": [],
   "source": [
    "# print(tokens[:100])"
   ]
  },
  {
   "cell_type": "code",
   "execution_count": 44,
   "metadata": {},
   "outputs": [],
   "source": [
    "metamorph = urllib.request.urlopen('http://www.gutenberg.org/cache/epub/5200/pg5200.txt').read()\n",
    "#print(x.read())\n"
   ]
  },
  {
   "cell_type": "code",
   "execution_count": 45,
   "metadata": {},
   "outputs": [],
   "source": [
    "metamorph_st = metamorph.decode(\"utf-8\") "
   ]
  },
  {
   "cell_type": "markdown",
   "metadata": {},
   "source": [
    "Load your article here"
   ]
  },
  {
   "cell_type": "code",
   "execution_count": 69,
   "metadata": {},
   "outputs": [
    {
     "name": "stdout",
     "output_type": "stream",
     "text": [
      "['Tsunami', 'debt', 'deal', 'to', 'be', 'announced', 'Chancellor', 'Gordon', 'Brown', 'has', 'said', 'he', 'hopes', 'to', 'announce', 'a', 'deal', 'to', 'suspend', 'debt', 'interest', 'repayments', 'by', 'tsunami', 'hit', 'nations', 'later', 'on', 'Friday', 'The', 'agreement', 'by', 'the', 'G', 'group', 'of', 'wealthy', 'nations', 'would', 'save', 'affected', 'countries', 'bn', 'pounds', 'a', 'year', 'he', 'said', 'The', 'deal', 'is', 'thought', 'to', 'have', 'been', 'hammered', 'out', 'on', 'Thursday', 'night', 'after', 'Japan', 'one', 'of', 'the', 'biggest', 'creditor', 'nations', 'finally', 'signed', 'up', 'to', 'it', 'Mr', 'Brown', 'first', 'proposed', 'the', 'idea', 'earlier', 'this', 'week', 'G', 'ministers', 'are', 'also', 'believed', 'to', 'have', 'agreed', 'to', 'instruct', 'the', 'World', 'Bank', 'and', 'the', 'International', 'Monetary', 'Fund']\n"
     ]
    }
   ],
   "source": [
    "pattern = \"([a-zA-Z]+(?:'[a-z]+)?)\"\n",
    "text_b_tokens_raw = nltk.regexp_tokenize(text_b, pattern)\n",
    "print(text_b_tokens_raw[:100])"
   ]
  },
  {
   "cell_type": "code",
   "execution_count": 70,
   "metadata": {},
   "outputs": [
    {
     "name": "stdout",
     "output_type": "stream",
     "text": [
      "['tsunami', 'debt', 'deal', 'to', 'be', 'announced', 'chancellor', 'gordon', 'brown', 'has', 'said', 'he', 'hopes', 'to', 'announce', 'a', 'deal', 'to', 'suspend', 'debt', 'interest', 'repayments', 'by', 'tsunami', 'hit', 'nations', 'later', 'on', 'friday', 'the', 'agreement', 'by', 'the', 'g', 'group', 'of', 'wealthy', 'nations', 'would', 'save', 'affected', 'countries', 'bn', 'pounds', 'a', 'year', 'he', 'said', 'the', 'deal', 'is', 'thought', 'to', 'have', 'been', 'hammered', 'out', 'on', 'thursday', 'night', 'after', 'japan', 'one', 'of', 'the', 'biggest', 'creditor', 'nations', 'finally', 'signed', 'up', 'to', 'it', 'mr', 'brown', 'first', 'proposed', 'the', 'idea', 'earlier', 'this', 'week', 'g', 'ministers', 'are', 'also', 'believed', 'to', 'have', 'agreed', 'to', 'instruct', 'the', 'world', 'bank', 'and', 'the', 'international', 'monetary', 'fund']\n"
     ]
    }
   ],
   "source": [
    "metamorph_tokens = [i.lower() for i in text_b_tokens_raw]\n",
    "print(metamorph_tokens[:100])\n"
   ]
  },
  {
   "cell_type": "code",
   "execution_count": 71,
   "metadata": {},
   "outputs": [
    {
     "name": "stderr",
     "output_type": "stream",
     "text": [
      "[nltk_data] Downloading package stopwords to\n",
      "[nltk_data]     /Users/basselhaidar/nltk_data...\n",
      "[nltk_data]   Package stopwords is already up-to-date!\n"
     ]
    },
    {
     "data": {
      "text/plain": [
       "['i',\n",
       " 'me',\n",
       " 'my',\n",
       " 'myself',\n",
       " 'we',\n",
       " 'our',\n",
       " 'ours',\n",
       " 'ourselves',\n",
       " 'you',\n",
       " \"you're\",\n",
       " \"you've\",\n",
       " \"you'll\",\n",
       " \"you'd\",\n",
       " 'your',\n",
       " 'yours',\n",
       " 'yourself',\n",
       " 'yourselves',\n",
       " 'he',\n",
       " 'him',\n",
       " 'his',\n",
       " 'himself',\n",
       " 'she',\n",
       " \"she's\",\n",
       " 'her',\n",
       " 'hers',\n",
       " 'herself',\n",
       " 'it',\n",
       " \"it's\",\n",
       " 'its',\n",
       " 'itself',\n",
       " 'they',\n",
       " 'them',\n",
       " 'their',\n",
       " 'theirs',\n",
       " 'themselves',\n",
       " 'what',\n",
       " 'which',\n",
       " 'who',\n",
       " 'whom',\n",
       " 'this',\n",
       " 'that',\n",
       " \"that'll\",\n",
       " 'these',\n",
       " 'those',\n",
       " 'am',\n",
       " 'is',\n",
       " 'are',\n",
       " 'was',\n",
       " 'were',\n",
       " 'be',\n",
       " 'been',\n",
       " 'being',\n",
       " 'have',\n",
       " 'has',\n",
       " 'had',\n",
       " 'having',\n",
       " 'do',\n",
       " 'does',\n",
       " 'did',\n",
       " 'doing',\n",
       " 'a',\n",
       " 'an',\n",
       " 'the',\n",
       " 'and',\n",
       " 'but',\n",
       " 'if',\n",
       " 'or',\n",
       " 'because',\n",
       " 'as',\n",
       " 'until',\n",
       " 'while',\n",
       " 'of',\n",
       " 'at',\n",
       " 'by',\n",
       " 'for',\n",
       " 'with',\n",
       " 'about',\n",
       " 'against',\n",
       " 'between',\n",
       " 'into',\n",
       " 'through',\n",
       " 'during',\n",
       " 'before',\n",
       " 'after',\n",
       " 'above',\n",
       " 'below',\n",
       " 'to',\n",
       " 'from',\n",
       " 'up',\n",
       " 'down',\n",
       " 'in',\n",
       " 'out',\n",
       " 'on',\n",
       " 'off',\n",
       " 'over',\n",
       " 'under',\n",
       " 'again',\n",
       " 'further',\n",
       " 'then',\n",
       " 'once',\n",
       " 'here',\n",
       " 'there',\n",
       " 'when',\n",
       " 'where',\n",
       " 'why',\n",
       " 'how',\n",
       " 'all',\n",
       " 'any',\n",
       " 'both',\n",
       " 'each',\n",
       " 'few',\n",
       " 'more',\n",
       " 'most',\n",
       " 'other',\n",
       " 'some',\n",
       " 'such',\n",
       " 'no',\n",
       " 'nor',\n",
       " 'not',\n",
       " 'only',\n",
       " 'own',\n",
       " 'same',\n",
       " 'so',\n",
       " 'than',\n",
       " 'too',\n",
       " 'very',\n",
       " 's',\n",
       " 't',\n",
       " 'can',\n",
       " 'will',\n",
       " 'just',\n",
       " 'don',\n",
       " \"don't\",\n",
       " 'should',\n",
       " \"should've\",\n",
       " 'now',\n",
       " 'd',\n",
       " 'll',\n",
       " 'm',\n",
       " 'o',\n",
       " 're',\n",
       " 've',\n",
       " 'y',\n",
       " 'ain',\n",
       " 'aren',\n",
       " \"aren't\",\n",
       " 'couldn',\n",
       " \"couldn't\",\n",
       " 'didn',\n",
       " \"didn't\",\n",
       " 'doesn',\n",
       " \"doesn't\",\n",
       " 'hadn',\n",
       " \"hadn't\",\n",
       " 'hasn',\n",
       " \"hasn't\",\n",
       " 'haven',\n",
       " \"haven't\",\n",
       " 'isn',\n",
       " \"isn't\",\n",
       " 'ma',\n",
       " 'mightn',\n",
       " \"mightn't\",\n",
       " 'mustn',\n",
       " \"mustn't\",\n",
       " 'needn',\n",
       " \"needn't\",\n",
       " 'shan',\n",
       " \"shan't\",\n",
       " 'shouldn',\n",
       " \"shouldn't\",\n",
       " 'wasn',\n",
       " \"wasn't\",\n",
       " 'weren',\n",
       " \"weren't\",\n",
       " 'won',\n",
       " \"won't\",\n",
       " 'wouldn',\n",
       " \"wouldn't\"]"
      ]
     },
     "execution_count": 71,
     "metadata": {},
     "output_type": "execute_result"
    }
   ],
   "source": [
    "import nltk\n",
    "nltk.download('stopwords')\n",
    "from nltk.corpus import stopwords\n",
    "stopwords.words(\"english\")"
   ]
  },
  {
   "cell_type": "code",
   "execution_count": 72,
   "metadata": {
    "scrolled": true
   },
   "outputs": [
    {
     "name": "stdout",
     "output_type": "stream",
     "text": [
      "['tsunami', 'debt', 'deal', 'announced', 'chancellor', 'gordon', 'brown', 'said', 'hopes', 'announce', 'deal', 'suspend', 'debt', 'interest', 'repayments', 'tsunami', 'hit', 'nations', 'later', 'friday', 'agreement', 'g', 'group', 'wealthy', 'nations', 'would', 'save', 'affected', 'countries', 'bn', 'pounds', 'year', 'said', 'deal', 'thought', 'hammered', 'thursday', 'night', 'japan', 'one', 'biggest', 'creditor', 'nations', 'finally', 'signed', 'mr', 'brown', 'first', 'proposed', 'idea', 'earlier', 'week', 'g', 'ministers', 'also', 'believed', 'agreed', 'instruct', 'world', 'bank', 'international', 'monetary', 'fund', 'complete', 'country', 'country', 'analysis', 'reconstruction', 'problems', 'faced', 'states', 'hit', 'disaster', 'mr', 'brown', 'locked', 'talks', 'finance', 'ministers', 'g', 'britain', 'chairs', 'germany', 'also', 'proposed', 'freeze', 'canada', 'begun', 'moratorium', 'expected', 'deal', 'comes', 'foreign', 'secretary', 'jack', 'straw', 'said', 'number', 'britons', 'dead']\n"
     ]
    }
   ],
   "source": [
    "stop_words = set(stopwords.words('english'))\n",
    "metamorph_tokens_stopped = [w for w in metamorph_tokens if not w in stop_words]\n",
    "print(metamorph_tokens_stopped[:100])"
   ]
  },
  {
   "cell_type": "markdown",
   "metadata": {},
   "source": [
    "## Stemming / Lemming"
   ]
  },
  {
   "cell_type": "markdown",
   "metadata": {},
   "source": [
    "### Stemming - Porter Stemmer \n",
    "![porter](https://cdn.homebrewersassociation.org/wp-content/uploads/Baltic_Porter_Feature-600x800.jpg)"
   ]
  },
  {
   "cell_type": "code",
   "execution_count": 52,
   "metadata": {},
   "outputs": [],
   "source": [
    "from nltk.stem import *\n",
    "stemmer = PorterStemmer()\n",
    "plurals = ['caresses', 'flies', 'dies', 'mules', 'denied',\n",
    "           'died', 'agreed', 'owned', 'humbled', 'sized',\n",
    "           'meeting', 'stating', 'siezing', 'itemization',\n",
    "           'sensational', 'traditional', 'reference', 'colonizer',\n",
    "          'plotted']"
   ]
  },
  {
   "cell_type": "code",
   "execution_count": 53,
   "metadata": {},
   "outputs": [
    {
     "name": "stdout",
     "output_type": "stream",
     "text": [
      "caress fli die mule deni die agre own humbl size meet state siez item sensat tradit refer colon plot\n"
     ]
    }
   ],
   "source": [
    "singles = [stemmer.stem(plural) for plural in plurals]\n",
    "print(' '.join(singles))"
   ]
  },
  {
   "cell_type": "markdown",
   "metadata": {},
   "source": [
    "### Stemming - Snowball Stemmer\n",
    "![snowball](https://localtvwiti.files.wordpress.com/2018/08/gettyimages-936380496.jpg?quality=85&strip=all)"
   ]
  },
  {
   "cell_type": "code",
   "execution_count": 54,
   "metadata": {},
   "outputs": [
    {
     "name": "stdout",
     "output_type": "stream",
     "text": [
      "arabic danish dutch english finnish french german hungarian italian norwegian porter portuguese romanian russian spanish swedish\n"
     ]
    }
   ],
   "source": [
    "print(\" \".join(SnowballStemmer.languages))"
   ]
  },
  {
   "cell_type": "code",
   "execution_count": 55,
   "metadata": {},
   "outputs": [
    {
     "name": "stdout",
     "output_type": "stream",
     "text": [
      "run\n"
     ]
    }
   ],
   "source": [
    "stemmer = SnowballStemmer(\"english\")\n",
    "print(stemmer.stem(\"running\"))"
   ]
  },
  {
   "cell_type": "markdown",
   "metadata": {},
   "source": [
    "### Porter vs Snowball"
   ]
  },
  {
   "cell_type": "code",
   "execution_count": 56,
   "metadata": {
    "scrolled": true
   },
   "outputs": [
    {
     "name": "stdout",
     "output_type": "stream",
     "text": [
      "generous\n",
      "gener\n"
     ]
    }
   ],
   "source": [
    "print(SnowballStemmer(\"english\").stem(\"generously\"))\n",
    "print(SnowballStemmer(\"porter\").stem(\"generously\"))\n",
    "\n"
   ]
  },
  {
   "cell_type": "markdown",
   "metadata": {},
   "source": [
    "### Use Snowball on metamorphesis"
   ]
  },
  {
   "cell_type": "code",
   "execution_count": 73,
   "metadata": {},
   "outputs": [
    {
     "name": "stdout",
     "output_type": "stream",
     "text": [
      "['tsunami', 'debt', 'deal', 'announc', 'chancellor', 'gordon', 'brown', 'said', 'hope', 'announc', 'deal', 'suspend', 'debt', 'interest', 'repay', 'tsunami', 'hit', 'nation', 'later', 'friday', 'agreement', 'g', 'group', 'wealthi', 'nation', 'would', 'save', 'affect', 'countri', 'bn', 'pound', 'year', 'said', 'deal', 'thought', 'hammer', 'thursday', 'night', 'japan', 'one', 'biggest', 'creditor', 'nation', 'final', 'sign', 'mr', 'brown', 'first', 'propos', 'idea', 'earlier', 'week', 'g', 'minist', 'also', 'believ', 'agre', 'instruct', 'world', 'bank', 'intern', 'monetari', 'fund', 'complet', 'countri', 'countri', 'analysi', 'reconstruct', 'problem', 'face', 'state', 'hit', 'disast', 'mr', 'brown', 'lock', 'talk', 'financ', 'minist', 'g', 'britain', 'chair', 'germani', 'also', 'propos', 'freez', 'canada', 'begun', 'moratorium', 'expect', 'deal', 'come', 'foreign', 'secretari', 'jack', 'straw', 'said', 'number', 'briton', 'dead']\n"
     ]
    }
   ],
   "source": [
    "meta_stemmed = [stemmer.stem(word) for word in metamorph_tokens_stopped]\n",
    "print(meta_stemmed[:100])"
   ]
  },
  {
   "cell_type": "markdown",
   "metadata": {},
   "source": [
    "### Lemmatization\n",
    "\n",
    "Uses a corpus of words \"WordNet\"\n",
    "\n",
    "`from nltk.stem import WordNetLemmatizer\n",
    "wordnet_lemmatizer = WordNetLemmatizer()`\n",
    "\n",
    "\n",
    "Challenge of lemmatization:\n",
    "\n",
    "`wordnet_lemmatizer.lemmatize(word, pos=\"v\")`"
   ]
  },
  {
   "cell_type": "markdown",
   "metadata": {},
   "source": [
    "## Here is a short list of additional considerations when cleaning text:\n",
    "\n",
    "- Handling large documents and large collections of text documents that do not fit into memory.\n",
    "- Extracting text from markup like HTML, PDF, or other structured document formats.\n",
    "- Transliteration of characters from other languages into English.\n",
    "- Decoding Unicode characters into a normalized form, such as UTF8.\n",
    "- Handling of domain specific words, phrases, and acronyms.\n",
    "- Handling or removing numbers, such as dates and amounts.\n",
    "- Locating and correcting common typos and misspellings."
   ]
  },
  {
   "cell_type": "markdown",
   "metadata": {},
   "source": [
    "### Document statistics"
   ]
  },
  {
   "cell_type": "markdown",
   "metadata": {},
   "source": [
    "Average word length in document"
   ]
  },
  {
   "cell_type": "code",
   "execution_count": 58,
   "metadata": {},
   "outputs": [
    {
     "data": {
      "text/plain": [
       "5.062374245472837"
      ]
     },
     "execution_count": 58,
     "metadata": {},
     "output_type": "execute_result"
    }
   ],
   "source": [
    "float(sum(map(len, meta_stemmed))) / len(meta_stemmed)"
   ]
  },
  {
   "cell_type": "markdown",
   "metadata": {},
   "source": [
    "Number of words in document"
   ]
  },
  {
   "cell_type": "code",
   "execution_count": 59,
   "metadata": {},
   "outputs": [
    {
     "data": {
      "text/plain": [
       "11928"
      ]
     },
     "execution_count": 59,
     "metadata": {},
     "output_type": "execute_result"
    }
   ],
   "source": [
    "len(meta_stemmed)"
   ]
  },
  {
   "cell_type": "markdown",
   "metadata": {},
   "source": [
    "## What you've all been waiting for \n",
    "\n",
    "![big deal](http://reddebtedstepchild.com/wp-content/uploads/2013/04/Big-deal-gif.gif)\n",
    "\n",
    "\n",
    "## Frequency distributions"
   ]
  },
  {
   "cell_type": "code",
   "execution_count": 74,
   "metadata": {},
   "outputs": [],
   "source": [
    "meta_freqdist = FreqDist(meta_stemmed)"
   ]
  },
  {
   "cell_type": "code",
   "execution_count": 75,
   "metadata": {},
   "outputs": [
    {
     "data": {
      "text/plain": [
       "[('deal', 4),\n",
       " ('brown', 3),\n",
       " ('said', 3),\n",
       " ('nation', 3),\n",
       " ('g', 3),\n",
       " ('countri', 3),\n",
       " ('tsunami', 2),\n",
       " ('debt', 2),\n",
       " ('announc', 2),\n",
       " ('hit', 2),\n",
       " ('mr', 2),\n",
       " ('propos', 2),\n",
       " ('minist', 2),\n",
       " ('also', 2),\n",
       " ('disast', 2),\n",
       " ('chancellor', 1),\n",
       " ('gordon', 1),\n",
       " ('hope', 1),\n",
       " ('suspend', 1),\n",
       " ('interest', 1),\n",
       " ('repay', 1),\n",
       " ('later', 1),\n",
       " ('friday', 1),\n",
       " ('agreement', 1),\n",
       " ('group', 1),\n",
       " ('wealthi', 1),\n",
       " ('would', 1),\n",
       " ('save', 1),\n",
       " ('affect', 1),\n",
       " ('bn', 1),\n",
       " ('pound', 1),\n",
       " ('year', 1),\n",
       " ('thought', 1),\n",
       " ('hammer', 1),\n",
       " ('thursday', 1),\n",
       " ('night', 1),\n",
       " ('japan', 1),\n",
       " ('one', 1),\n",
       " ('biggest', 1),\n",
       " ('creditor', 1),\n",
       " ('final', 1),\n",
       " ('sign', 1),\n",
       " ('first', 1),\n",
       " ('idea', 1),\n",
       " ('earlier', 1),\n",
       " ('week', 1),\n",
       " ('believ', 1),\n",
       " ('agre', 1),\n",
       " ('instruct', 1),\n",
       " ('world', 1)]"
      ]
     },
     "execution_count": 75,
     "metadata": {},
     "output_type": "execute_result"
    }
   ],
   "source": [
    "meta_freqdist.most_common(50)"
   ]
  },
  {
   "cell_type": "code",
   "execution_count": 76,
   "metadata": {
    "scrolled": true
   },
   "outputs": [
    {
     "data": {
      "image/png": "[encoded data removed]",
      "text/plain": [
       "<Figure size 432x288 with 1 Axes>"
      ]
     },
     "metadata": {
      "needs_background": "light"
     },
     "output_type": "display_data"
    }
   ],
   "source": [
    "\n",
    "meta_freqdist.plot(30,cumulative=False);"
   ]
  },
  {
   "cell_type": "markdown",
   "metadata": {},
   "source": [
    "**TASK**: Create word frequency plot for your article\n",
    "\n",
    "Question:  Should any more stop words be added to the list given your plot results?"
   ]
  },
  {
   "cell_type": "code",
   "execution_count": 67,
   "metadata": {},
   "outputs": [],
   "source": [
    "meta_finder = BigramCollocationFinder.from_words(meta_stemmed)"
   ]
  },
  {
   "cell_type": "markdown",
   "metadata": {},
   "source": [
    "## Creating a Data frame that compares the documents\n",
    "\n",
    "**Puzzle**: how could you adapt the code below to allow you to compare documents and word counts?"
   ]
  },
  {
   "cell_type": "code",
   "execution_count": 68,
   "metadata": {},
   "outputs": [
    {
     "name": "stdout",
     "output_type": "stream",
     "text": [
      "   hello  omg  pony  she  there  went  why\n",
      "0      1    0     0    0      1     0    1\n",
      "1      1    1     1    0      0     0    0\n",
      "2      0    1     0    1      1     1    0\n"
     ]
    }
   ],
   "source": [
    "import pandas as pd\n",
    "from sklearn.feature_extraction.text import CountVectorizer\n",
    "\n",
    "docs = ['why hello there', 'omg hello pony', 'she went there? omg']\n",
    "vec = CountVectorizer()\n",
    "X = vec.fit_transform(docs)\n",
    "df = pd.DataFrame(X.toarray(), columns=vec.get_feature_names())\n",
    "print(df)"
   ]
  },
  {
   "cell_type": "code",
   "execution_count": null,
   "metadata": {},
   "outputs": [],
   "source": []
  }
 ],
 "metadata": {
  "kernelspec": {
   "display_name": "Python 3",
   "language": "python",
   "name": "python3"
  },
  "language_info": {
   "codemirror_mode": {
    "name": "ipython",
    "version": 3
   },
   "file_extension": ".py",
   "mimetype": "text/x-python",
   "name": "python",
   "nbconvert_exporter": "python",
   "pygments_lexer": "ipython3",
   "version": "3.7.3"
  }
 },
 "nbformat": 4,
 "nbformat_minor": 2
}
