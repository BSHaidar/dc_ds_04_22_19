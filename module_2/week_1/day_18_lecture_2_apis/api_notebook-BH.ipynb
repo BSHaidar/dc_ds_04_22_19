{
 "cells": [
  {
   "cell_type": "markdown",
   "metadata": {
    "slideshow": {
     "slide_type": "slide"
    }
   },
   "source": [
    "# APIs and Python"
   ]
  },
  {
   "cell_type": "markdown",
   "metadata": {
    "slideshow": {
     "slide_type": "slide"
    }
   },
   "source": [
    "## The Many Use Cases for APIs\n",
    "APIs can actually be used for many things - not just for retrieving information. Twilio has an API that allows you to write a script to call their API to send text messages to people. GitHub has an API for creating new repositories. Many services have an API allowing a computer to automate a task that a person might otherwise have to do through a website - whether uploading a photo to Flickr, searching for a company name in a state database or getting a list of garbage collection times for a municipality."
   ]
  },
  {
   "cell_type": "markdown",
   "metadata": {
    "slideshow": {
     "slide_type": "slide"
    }
   },
   "source": [
    "### _Learning Goals:_<br/>\n",
    "  - Identify and discuss APIs\n",
    "  - Discuss and explain different request (GET, POST, PUT, DELETE) and CRUD operations\n",
    "  - Explore the attributes of a response object\n",
    "  - Check the status of a request and interpret status codes\n",
    "  - Access data from an API using the requests library\n",
    "  - Create a pandas dataframe from the data returned from an API and visualize the data\n",
    "  - If time, target an API of their own!!!"
   ]
  },
  {
   "cell_type": "markdown",
   "metadata": {
    "slideshow": {
     "slide_type": "slide"
    }
   },
   "source": [
    "## Limitations of APIs\n",
    "When working with APIs, there are some limitations you have to be aware of - especially relating to scope and scale."
   ]
  },
  {
   "cell_type": "markdown",
   "metadata": {
    "slideshow": {
     "slide_type": "fragment"
    }
   },
   "source": [
    "* **Scope** - Just because a company has an API and has information, it doesn't mean you can get all of the information through their API. "
   ]
  },
  {
   "cell_type": "markdown",
   "metadata": {
    "slideshow": {
     "slide_type": "fragment"
    }
   },
   "source": [
    "* **Scale** - Some APIs are provided for free as a public service. Others you have to pay for, or allow you to perform activities (like sending a text message) that you pay for. Make sure that you know what the rate limits are and that your use case isn't going to need more API calls than you will be able to make."
   ]
  },
  {
   "cell_type": "markdown",
   "metadata": {
    "slideshow": {
     "slide_type": "fragment"
    }
   },
   "source": [
    "Let's take a look at the `requests` library and it's uses."
   ]
  },
  {
   "cell_type": "markdown",
   "metadata": {
    "slideshow": {
     "slide_type": "slide"
    }
   },
   "source": [
    "### \"Requests is the only Non-GMO HTTP library for Python, safe for human consumption.\"\n",
    "\n",
    "![img-req](requests-pic.jpeg)\n",
    "\n",
    "Straight from the `requests` [documentation](https://pypi.org/project/requests/)"
   ]
  },
  {
   "cell_type": "markdown",
   "metadata": {
    "slideshow": {
     "slide_type": "slide"
    }
   },
   "source": [
    "![nongmao](requests_med.png)\n",
    "\n",
    "\"Requests allows you to send organic, grass-fed HTTP/1.1 requests, without the need for manual labor. \"<br>\n",
    "[More requests documentation](https://2.python-requests.org//en/v0.10.6/api/)"
   ]
  },
  {
   "cell_type": "markdown",
   "metadata": {},
   "source": [
    "### Let's get started!"
   ]
  },
  {
   "cell_type": "code",
   "execution_count": 2,
   "metadata": {
    "slideshow": {
     "slide_type": "slide"
    }
   },
   "outputs": [],
   "source": [
    "import requests"
   ]
  },
  {
   "cell_type": "code",
   "execution_count": 3,
   "metadata": {},
   "outputs": [],
   "source": [
    "#!pip install requests"
   ]
  },
  {
   "cell_type": "markdown",
   "metadata": {},
   "source": [
    "### Types of requests\n",
    "\n",
    "We will mostly use GET, but there are other options\n",
    "\n",
    "Let's say you are looking at an API for a car rental company like Hertz, or maybe even Zipcar.\n",
    "\n",
    "The following different requests will generate these different responses.\n",
    "\n",
    "|Request        | Result        |\n",
    "|-------------|-------------|\n",
    "|GET /stores/   | User sees the list of stores|\n",
    "|GET /rentals/  | User sees the history of car rentals|\n",
    "|POST /rentals/ | User rents a car|\n",
    "|PUT /rentals/{id}/| User changes destination store|\n",
    "|DELETE /rentals/{id}/| User cancels the active car rental|\n",
    "\n",
    "\n"
   ]
  },
  {
   "cell_type": "code",
   "execution_count": 4,
   "metadata": {
    "slideshow": {
     "slide_type": "slide"
    }
   },
   "outputs": [],
   "source": [
    "rental_json = [{\n",
    "    \"id\": 1,\n",
    "    \"name\": \"John St\",\n",
    "    \"location\": [29, 95],\n",
    "    \"available_cars_quantity\": 10\n",
    "},\n",
    "{\n",
    "    \"id\": 2,\n",
    "    \"name\": \"Scott St.\",\n",
    "    \"location\": [29.5, 95.7],\n",
    "    \"available_cars_quantity\": 2\n",
    "}]"
   ]
  },
  {
   "cell_type": "code",
   "execution_count": 6,
   "metadata": {},
   "outputs": [
    {
     "data": {
      "text/plain": [
       "{'args': {},\n",
       " 'data': '',\n",
       " 'files': {},\n",
       " 'form': {'key': 'value'},\n",
       " 'headers': {'Accept': '*/*',\n",
       "  'Accept-Encoding': 'gzip, deflate',\n",
       "  'Content-Length': '9',\n",
       "  'Content-Type': 'application/x-www-form-urlencoded',\n",
       "  'Host': 'httpbin.org',\n",
       "  'User-Agent': 'python-requests/2.18.4'},\n",
       " 'json': None,\n",
       " 'origin': '65.207.79.74, 65.207.79.74',\n",
       " 'url': 'https://httpbin.org/post'}"
      ]
     },
     "execution_count": 6,
     "metadata": {},
     "output_type": "execute_result"
    }
   ],
   "source": [
    "#create a post request from https://httpbin.org/post and view it in json format\n",
    "\n",
    "r = requests.post('https://httpbin.org/post', data = {'key':'value'}) #put url and data = {'key':'value'} format here in the bananas!\n",
    "r.json()"
   ]
  },
  {
   "cell_type": "markdown",
   "metadata": {
    "slideshow": {
     "slide_type": "slide"
    }
   },
   "source": [
    "### Request Class and Attributes"
   ]
  },
  {
   "cell_type": "code",
   "execution_count": null,
   "metadata": {},
   "outputs": [],
   "source": []
  },
  {
   "cell_type": "code",
   "execution_count": 7,
   "metadata": {
    "scrolled": true
   },
   "outputs": [
    {
     "data": {
      "text/plain": [
       "requests.models.Response"
      ]
     },
     "execution_count": 7,
     "metadata": {},
     "output_type": "execute_result"
    }
   ],
   "source": [
    "#create a GET request from https://api.github.com/events and view it in json format\n",
    "\n",
    "r =requests.get('https://api.github.com/events') #put url here in the bananas!\n",
    "type(r)"
   ]
  },
  {
   "cell_type": "code",
   "execution_count": 11,
   "metadata": {
    "scrolled": true
   },
   "outputs": [
    {
     "data": {
      "text/plain": [
       "{'message': \"API rate limit exceeded for 65.207.79.74. (But here's the good news: Authenticated requests get a higher rate limit. Check out the documentation for more details.)\",\n",
       " 'documentation_url': 'https://developer.github.com/v3/#rate-limiting'}"
      ]
     },
     "execution_count": 11,
     "metadata": {},
     "output_type": "execute_result"
    }
   ],
   "source": [
    "r.json()"
   ]
  },
  {
   "cell_type": "code",
   "execution_count": 12,
   "metadata": {},
   "outputs": [
    {
     "data": {
      "text/plain": [
       "'{\"message\":\"API rate limit exceeded for 65.207.79.74. (But here\\'s the good news: Authenticated requests get a higher rate limit. Check out the documentation for more details.)\",\"documentation_url\":\"https://developer.github.com/v3/#rate-limiting\"}'"
      ]
     },
     "execution_count": 12,
     "metadata": {},
     "output_type": "execute_result"
    }
   ],
   "source": [
    "r.text"
   ]
  },
  {
   "cell_type": "markdown",
   "metadata": {
    "slideshow": {
     "slide_type": "slide"
    }
   },
   "source": [
    "Let's check the `attributes` of a `Response` object. <br>\n",
    "https://2.python-requests.org//en/v0.10.6/api/\n",
    "\n",
    "Some key attributes:\n",
    "\n",
    "- url\n",
    "- text\n",
    "- status_code\n",
    "- headers\n",
    "- error"
   ]
  },
  {
   "cell_type": "markdown",
   "metadata": {
    "slideshow": {
     "slide_type": "slide"
    }
   },
   "source": [
    "### Checking out the status of your request"
   ]
  },
  {
   "cell_type": "code",
   "execution_count": 14,
   "metadata": {},
   "outputs": [
    {
     "data": {
      "text/plain": [
       "403"
      ]
     },
     "execution_count": 14,
     "metadata": {},
     "output_type": "execute_result"
    }
   ],
   "source": [
    "#get the status of your post request\n",
    "r.status_code"
   ]
  },
  {
   "cell_type": "markdown",
   "metadata": {
    "slideshow": {
     "slide_type": "slide"
    }
   },
   "source": [
    "#### Types of status codes\n",
    "1xx - Informational responses\n",
    "\n",
    "2xx - Success\n",
    "- 200 OK\n",
    "- 201 Created\n",
    "- 204 No Content\n",
    "\n",
    "3xx - Redirection\n",
    "\n",
    "- 301 Moved Permanently (permanent URL redirection)\n",
    "- 304 Not Modified (A conditional GET or HEAD request has been received and would have resulted in a 200 OK response if it were not for the fact that the condition evaluated to false.)"
   ]
  },
  {
   "cell_type": "markdown",
   "metadata": {
    "slideshow": {
     "slide_type": "slide"
    }
   },
   "source": [
    "4xx - Client errors\n",
    "\n",
    "- 400 Bad Request\n",
    "- 401 Unauthorized\n",
    "- 403 Forbidden\n",
    "- 404 Not Found\n",
    "\n",
    "5xx - Server errors\n",
    "\n",
    "- 500 Internal Server Error"
   ]
  },
  {
   "cell_type": "markdown",
   "metadata": {
    "slideshow": {
     "slide_type": "slide"
    }
   },
   "source": [
    "https://http.cat"
   ]
  },
  {
   "cell_type": "code",
   "execution_count": 15,
   "metadata": {
    "slideshow": {
     "slide_type": "slide"
    }
   },
   "outputs": [
    {
     "data": {
      "text/plain": [
       "404"
      ]
     },
     "execution_count": 15,
     "metadata": {},
     "output_type": "execute_result"
    }
   ],
   "source": [
    "#get status code for a \"broken\" link\n",
    "\n",
    "r = requests.get('https://api.github.com/fake-ending')\n",
    "r.status_code"
   ]
  },
  {
   "cell_type": "markdown",
   "metadata": {
    "slideshow": {
     "slide_type": "slide"
    }
   },
   "source": [
    "Can also explictly ask for the returned format to be json as a method."
   ]
  },
  {
   "cell_type": "code",
   "execution_count": 16,
   "metadata": {},
   "outputs": [
    {
     "data": {
      "text/plain": [
       "{'message': 'Not Found',\n",
       " 'documentation_url': 'https://developer.github.com/v3'}"
      ]
     },
     "execution_count": 16,
     "metadata": {},
     "output_type": "execute_result"
    }
   ],
   "source": [
    "r.json()"
   ]
  },
  {
   "cell_type": "markdown",
   "metadata": {
    "slideshow": {
     "slide_type": "slide"
    }
   },
   "source": [
    "#### A note on errors and exceptions with the Requests library\n",
    "\n",
    "There are a number of exceptions and error codes you need to be familiar with when using the Requests library in Python.\n",
    "\n",
    "- The Requests library will raise a ConnectionError exception if there is a network problem like a DNS failure, or refused connection.\n",
    "- These are rare, but with invalid HTTP responses, Requests will also raise an HTTPError exception. \n",
    "- A Timeout exception will be raised if a request times out.\n",
    "- If and when a request exceeds the preconfigured number of maximum redirections, then a TooManyRedirects exception will be raised"
   ]
  },
  {
   "cell_type": "markdown",
   "metadata": {},
   "source": [
    "Now that we know a bit more about APIs and how to interact with them in python, let's actually investigate an API from scratch. \n",
    "\n",
    "To start, go over to the API documentation at: \n",
    "\n",
    "https://dev.socrata.com/foundry/data.cityofnewyork.us/fhrw-4uyv\n",
    "\n",
    "\n",
    "<img src=\"311_api_docs.png\">"
   ]
  },
  {
   "cell_type": "markdown",
   "metadata": {
    "slideshow": {
     "slide_type": "slide"
    }
   },
   "source": [
    "## Make an initial API call to retrieve 311 complaints from a neighborhood or zip code of your choice in New York City."
   ]
  },
  {
   "cell_type": "markdown",
   "metadata": {
    "slideshow": {
     "slide_type": "slide"
    }
   },
   "source": [
    "### Using Requests"
   ]
  },
  {
   "cell_type": "code",
   "execution_count": 17,
   "metadata": {
    "slideshow": {
     "slide_type": "-"
    }
   },
   "outputs": [],
   "source": [
    "import requests\n",
    "import pandas as pd\n",
    "\n",
    "zip_code = '11004'\n",
    "\n",
    "# can't figure out date ranges at the moment...\n",
    "start_date = '2018-01-01T12:00:00'\n",
    "end_date = '2018-02-01T12:00:00'\n",
    "\n",
    "# create pull request based on parameters\n",
    "# https://data.cityofnewyork.us/Social-Services/311-Service-Requests-from-2010-to-Present/erm2-nwe9 click API\n",
    "\n",
    "url = \"https://data.cityofnewyork.us/resource/fhrw-4uyv.json?incident_zip={}\".format(zip_code)\n",
    "\n",
    "# do the pull\n",
    "response = requests.get(url)\n",
    "if response.status_code == 200:\n",
    "    data = response.json()\n",
    "else:\n",
    "    print('Hit an error.')"
   ]
  },
  {
   "cell_type": "markdown",
   "metadata": {
    "slideshow": {
     "slide_type": "slide"
    }
   },
   "source": [
    "## Briefly Explore the Structure of the Response You Received."
   ]
  },
  {
   "cell_type": "markdown",
   "metadata": {},
   "source": [
    "### Let's look at the output of our API call to NYC 311"
   ]
  },
  {
   "cell_type": "code",
   "execution_count": 18,
   "metadata": {
    "slideshow": {
     "slide_type": "-"
    }
   },
   "outputs": [
    {
     "name": "stdout",
     "output_type": "stream",
     "text": [
      "<class 'list'>\n"
     ]
    }
   ],
   "source": [
    "print(type(data))"
   ]
  },
  {
   "cell_type": "code",
   "execution_count": 19,
   "metadata": {
    "slideshow": {
     "slide_type": "-"
    }
   },
   "outputs": [
    {
     "data": {
      "text/plain": [
       "1000"
      ]
     },
     "execution_count": 19,
     "metadata": {},
     "output_type": "execute_result"
    }
   ],
   "source": [
    "len(data)"
   ]
  },
  {
   "cell_type": "code",
   "execution_count": 20,
   "metadata": {
    "slideshow": {
     "slide_type": "fragment"
    }
   },
   "outputs": [
    {
     "data": {
      "text/plain": [
       "{'address_type': 'ADDRESS',\n",
       " 'agency': 'NYPD',\n",
       " 'agency_name': 'New York City Police Department',\n",
       " 'bbl': '4084460001',\n",
       " 'borough': 'QUEENS',\n",
       " 'city': 'GLEN OAKS',\n",
       " 'closed_date': '2019-05-14T00:45:22.000',\n",
       " 'community_board': '13 QUEENS',\n",
       " 'complaint_type': 'Noise - Residential',\n",
       " 'created_date': '2019-05-13T23:06:30.000',\n",
       " 'cross_street_1': '73 AVENUE',\n",
       " 'cross_street_2': 'BEND',\n",
       " 'descriptor': 'Banging/Pounding',\n",
       " 'due_date': '2019-05-14T07:06:30.000',\n",
       " 'facility_type': 'Precinct',\n",
       " 'incident_address': '73-01 260 STREET',\n",
       " 'incident_zip': '11004',\n",
       " 'latitude': '40.75076013157645',\n",
       " 'location': {'type': 'Point',\n",
       "  'coordinates': [-73.717529079357, 40.750760131576]},\n",
       " 'location_type': 'Residential Building/House',\n",
       " 'longitude': '-73.7175290793568',\n",
       " 'open_data_channel_type': 'ONLINE',\n",
       " 'park_borough': 'QUEENS',\n",
       " 'park_facility_name': 'Unspecified',\n",
       " 'resolution_action_updated_date': '2019-05-14T00:45:22.000',\n",
       " 'resolution_description': 'The Police Department responded to the complaint and with the information available observed no evidence of the violation at that time.',\n",
       " 'status': 'Closed',\n",
       " 'street_name': '260 STREET',\n",
       " 'unique_key': '42663284',\n",
       " 'x_coordinate_state_plane': '1062514',\n",
       " 'y_coordinate_state_plane': '212925'}"
      ]
     },
     "execution_count": 20,
     "metadata": {},
     "output_type": "execute_result"
    }
   ],
   "source": [
    "data[0]"
   ]
  },
  {
   "cell_type": "markdown",
   "metadata": {
    "slideshow": {
     "slide_type": "slide"
    }
   },
   "source": [
    "### Libraries for company-specific APIs\n",
    "\n",
    "Google has its own libraries you can import to access their apis. <br>\n",
    "NYC also uses the `sodapy` library, Socrata, to manage their open data. \n"
   ]
  },
  {
   "cell_type": "markdown",
   "metadata": {
    "slideshow": {
     "slide_type": "slide"
    }
   },
   "source": [
    "#### Extra credit for later if you want to play with it"
   ]
  },
  {
   "cell_type": "code",
   "execution_count": 21,
   "metadata": {},
   "outputs": [
    {
     "name": "stdout",
     "output_type": "stream",
     "text": [
      "Collecting sodapy\n",
      "  Downloading https://files.pythonhosted.org/packages/11/02/5baf6e10a47018babcc43e3ed03a6f13712187f4ab1fbe263b479c77d117/sodapy-1.5.2-py2.py3-none-any.whl\n",
      "Collecting requests>=2.20.0 (from sodapy)\n",
      "\u001b[?25l  Downloading https://files.pythonhosted.org/packages/7d/e3/20f3d364d6c8e5d2353c72a67778eb189176f08e873c9900e10c0287b84b/requests-2.21.0-py2.py3-none-any.whl (57kB)\n",
      "\u001b[K     |████████████████████████████████| 61kB 3.1MB/s eta 0:00:01\n",
      "\u001b[?25hRequirement already satisfied: future>=0.17.1 in /Users/bhaidar/anaconda3/lib/python3.6/site-packages (from sodapy) (0.17.1)\n",
      "Requirement already satisfied: idna<2.9,>=2.5 in /Users/bhaidar/anaconda3/lib/python3.6/site-packages (from requests>=2.20.0->sodapy) (2.6)\n",
      "Requirement already satisfied: urllib3<1.25,>=1.21.1 in /Users/bhaidar/anaconda3/lib/python3.6/site-packages (from requests>=2.20.0->sodapy) (1.22)\n",
      "Requirement already satisfied: chardet<3.1.0,>=3.0.2 in /Users/bhaidar/anaconda3/lib/python3.6/site-packages (from requests>=2.20.0->sodapy) (3.0.4)\n",
      "Requirement already satisfied: certifi>=2017.4.17 in /Users/bhaidar/anaconda3/lib/python3.6/site-packages (from requests>=2.20.0->sodapy) (2018.4.16)\n",
      "Installing collected packages: requests, sodapy\n",
      "  Found existing installation: requests 2.18.4\n",
      "    Uninstalling requests-2.18.4:\n",
      "      Successfully uninstalled requests-2.18.4\n",
      "Successfully installed requests-2.21.0 sodapy-1.5.2\n",
      "\u001b[33mWARNING: You are using pip version 19.1, however version 19.1.1 is available.\n",
      "You should consider upgrading via the 'pip install --upgrade pip' command.\u001b[0m\n"
     ]
    }
   ],
   "source": [
    "# Install before running \n",
    "!pip install sodapy"
   ]
  },
  {
   "cell_type": "markdown",
   "metadata": {
    "slideshow": {
     "slide_type": "-"
    }
   },
   "source": [
    "#### Tokenize yourself, B!\n",
    "\n",
    "https://dev.socrata.com/foundry/data.cityofnewyork.us/fhrw-4uyv\n",
    "\n",
    "Scroll down and click to sign up for an app token! This is instantaneous and simple. No credit cards required!\n"
   ]
  },
  {
   "cell_type": "code",
   "execution_count": 22,
   "metadata": {},
   "outputs": [
    {
     "name": "stderr",
     "output_type": "stream",
     "text": [
      "WARNING:root:Requests made without an app_token will be subject to strict throttling limits.\n"
     ]
    }
   ],
   "source": [
    "token = '' \n",
    "\n",
    "import pandas as pd\n",
    "from sodapy import Socrata\n",
    "\n",
    "# Unauthenticated client only works with public data sets. Note 'None'\n",
    "# in place of application token, and no username or password:\n",
    "client = Socrata(\"data.cityofnewyork.us\", token)\n",
    "\n",
    "# Example authenticated client (needed for non-public datasets):\n",
    "# client = Socrata(data.cityofnewyork.us,\n",
    "#                  MyAppToken,\n",
    "#                  userame=\"user@example.com\",\n",
    "#                  password=\"AFakePassword\")\n",
    "\n",
    "# First 2000 results, returned as JSON from API / converted to Python list of\n",
    "# dictionaries by sodapy.\n",
    "results = client.get(\"fhrw-4uyv\", incident_zip = '11004', limit=1000)"
   ]
  },
  {
   "cell_type": "code",
   "execution_count": 23,
   "metadata": {
    "slideshow": {
     "slide_type": "-"
    }
   },
   "outputs": [
    {
     "data": {
      "text/plain": [
       "list"
      ]
     },
     "execution_count": 23,
     "metadata": {},
     "output_type": "execute_result"
    }
   ],
   "source": [
    "type(results)"
   ]
  },
  {
   "cell_type": "code",
   "execution_count": 24,
   "metadata": {
    "slideshow": {
     "slide_type": "-"
    }
   },
   "outputs": [
    {
     "data": {
      "text/plain": [
       "1000"
      ]
     },
     "execution_count": 24,
     "metadata": {},
     "output_type": "execute_result"
    }
   ],
   "source": [
    "len(results)"
   ]
  },
  {
   "cell_type": "code",
   "execution_count": 25,
   "metadata": {
    "slideshow": {
     "slide_type": "-"
    }
   },
   "outputs": [
    {
     "data": {
      "text/plain": [
       "{'address_type': 'ADDRESS',\n",
       " 'agency': 'NYPD',\n",
       " 'agency_name': 'New York City Police Department',\n",
       " 'bbl': '4084460001',\n",
       " 'borough': 'QUEENS',\n",
       " 'city': 'GLEN OAKS',\n",
       " 'closed_date': '2019-05-14T00:45:22.000',\n",
       " 'community_board': '13 QUEENS',\n",
       " 'complaint_type': 'Noise - Residential',\n",
       " 'created_date': '2019-05-13T23:06:30.000',\n",
       " 'cross_street_1': '73 AVENUE',\n",
       " 'cross_street_2': 'BEND',\n",
       " 'descriptor': 'Banging/Pounding',\n",
       " 'due_date': '2019-05-14T07:06:30.000',\n",
       " 'facility_type': 'Precinct',\n",
       " 'incident_address': '73-01 260 STREET',\n",
       " 'incident_zip': '11004',\n",
       " 'latitude': '40.75076013157645',\n",
       " 'location': {'type': 'Point',\n",
       "  'coordinates': [-73.717529079357, 40.750760131576]},\n",
       " 'location_type': 'Residential Building/House',\n",
       " 'longitude': '-73.7175290793568',\n",
       " 'open_data_channel_type': 'ONLINE',\n",
       " 'park_borough': 'QUEENS',\n",
       " 'park_facility_name': 'Unspecified',\n",
       " 'resolution_action_updated_date': '2019-05-14T00:45:22.000',\n",
       " 'resolution_description': 'The Police Department responded to the complaint and with the information available observed no evidence of the violation at that time.',\n",
       " 'status': 'Closed',\n",
       " 'street_name': '260 STREET',\n",
       " 'unique_key': '42663284',\n",
       " 'x_coordinate_state_plane': '1062514',\n",
       " 'y_coordinate_state_plane': '212925'}"
      ]
     },
     "execution_count": 25,
     "metadata": {},
     "output_type": "execute_result"
    }
   ],
   "source": [
    "results[0]"
   ]
  },
  {
   "cell_type": "code",
   "execution_count": 26,
   "metadata": {
    "slideshow": {
     "slide_type": "-"
    }
   },
   "outputs": [
    {
     "name": "stdout",
     "output_type": "stream",
     "text": [
      "1000\n",
      "Index(['address_type', 'agency', 'agency_name', 'bbl', 'borough', 'city',\n",
      "       'closed_date', 'community_board', 'complaint_type', 'created_date',\n",
      "       'cross_street_1', 'cross_street_2', 'descriptor', 'due_date',\n",
      "       'facility_type', 'incident_address', 'incident_zip',\n",
      "       'intersection_street_1', 'intersection_street_2', 'latitude',\n",
      "       'location', 'location_type', 'longitude', 'open_data_channel_type',\n",
      "       'park_borough', 'park_facility_name', 'resolution_action_updated_date',\n",
      "       'resolution_description', 'status', 'street_name',\n",
      "       'taxi_pick_up_location', 'unique_key', 'x_coordinate_state_plane',\n",
      "       'y_coordinate_state_plane'],\n",
      "      dtype='object')\n"
     ]
    },
    {
     "data": {
      "text/html": [
       "<div>\n",
       "<style scoped>\n",
       "    .dataframe tbody tr th:only-of-type {\n",
       "        vertical-align: middle;\n",
       "    }\n",
       "\n",
       "    .dataframe tbody tr th {\n",
       "        vertical-align: top;\n",
       "    }\n",
       "\n",
       "    .dataframe thead th {\n",
       "        text-align: right;\n",
       "    }\n",
       "</style>\n",
       "<table border=\"1\" class=\"dataframe\">\n",
       "  <thead>\n",
       "    <tr style=\"text-align: right;\">\n",
       "      <th></th>\n",
       "      <th>address_type</th>\n",
       "      <th>agency</th>\n",
       "      <th>agency_name</th>\n",
       "      <th>bbl</th>\n",
       "      <th>borough</th>\n",
       "      <th>city</th>\n",
       "      <th>closed_date</th>\n",
       "      <th>community_board</th>\n",
       "      <th>complaint_type</th>\n",
       "      <th>created_date</th>\n",
       "      <th>...</th>\n",
       "      <th>park_borough</th>\n",
       "      <th>park_facility_name</th>\n",
       "      <th>resolution_action_updated_date</th>\n",
       "      <th>resolution_description</th>\n",
       "      <th>status</th>\n",
       "      <th>street_name</th>\n",
       "      <th>taxi_pick_up_location</th>\n",
       "      <th>unique_key</th>\n",
       "      <th>x_coordinate_state_plane</th>\n",
       "      <th>y_coordinate_state_plane</th>\n",
       "    </tr>\n",
       "  </thead>\n",
       "  <tbody>\n",
       "    <tr>\n",
       "      <th>0</th>\n",
       "      <td>ADDRESS</td>\n",
       "      <td>NYPD</td>\n",
       "      <td>New York City Police Department</td>\n",
       "      <td>4084460001</td>\n",
       "      <td>QUEENS</td>\n",
       "      <td>GLEN OAKS</td>\n",
       "      <td>2019-05-14T00:45:22.000</td>\n",
       "      <td>13 QUEENS</td>\n",
       "      <td>Noise - Residential</td>\n",
       "      <td>2019-05-13T23:06:30.000</td>\n",
       "      <td>...</td>\n",
       "      <td>QUEENS</td>\n",
       "      <td>Unspecified</td>\n",
       "      <td>2019-05-14T00:45:22.000</td>\n",
       "      <td>The Police Department responded to the complai...</td>\n",
       "      <td>Closed</td>\n",
       "      <td>260 STREET</td>\n",
       "      <td>NaN</td>\n",
       "      <td>42663284</td>\n",
       "      <td>1062514</td>\n",
       "      <td>212925</td>\n",
       "    </tr>\n",
       "    <tr>\n",
       "      <th>1</th>\n",
       "      <td>BLOCKFACE</td>\n",
       "      <td>DOT</td>\n",
       "      <td>Department of Transportation</td>\n",
       "      <td>NaN</td>\n",
       "      <td>QUEENS</td>\n",
       "      <td>Glen Oaks</td>\n",
       "      <td>NaN</td>\n",
       "      <td>13 QUEENS</td>\n",
       "      <td>Street Condition</td>\n",
       "      <td>2019-05-13T11:39:14.000</td>\n",
       "      <td>...</td>\n",
       "      <td>QUEENS</td>\n",
       "      <td>Unspecified</td>\n",
       "      <td>2019-05-13T11:39:14.000</td>\n",
       "      <td>The Department of Transportation referred this...</td>\n",
       "      <td>Open</td>\n",
       "      <td>73 AVENUE</td>\n",
       "      <td>NaN</td>\n",
       "      <td>42663518</td>\n",
       "      <td>1062558</td>\n",
       "      <td>213091</td>\n",
       "    </tr>\n",
       "    <tr>\n",
       "      <th>2</th>\n",
       "      <td>ADDRESS</td>\n",
       "      <td>DEP</td>\n",
       "      <td>Department of Environmental Protection</td>\n",
       "      <td>4084430237</td>\n",
       "      <td>QUEENS</td>\n",
       "      <td>Glen Oaks</td>\n",
       "      <td>NaN</td>\n",
       "      <td>13 QUEENS</td>\n",
       "      <td>Sewer</td>\n",
       "      <td>2019-05-13T20:50:00.000</td>\n",
       "      <td>...</td>\n",
       "      <td>QUEENS</td>\n",
       "      <td>Unspecified</td>\n",
       "      <td>NaN</td>\n",
       "      <td>NaN</td>\n",
       "      <td>Open</td>\n",
       "      <td>LITTLE NECK PARKWAY</td>\n",
       "      <td>NaN</td>\n",
       "      <td>42662708</td>\n",
       "      <td>1061214</td>\n",
       "      <td>213791</td>\n",
       "    </tr>\n",
       "    <tr>\n",
       "      <th>3</th>\n",
       "      <td>INTERSECTION</td>\n",
       "      <td>DEP</td>\n",
       "      <td>Department of Environmental Protection</td>\n",
       "      <td>NaN</td>\n",
       "      <td>QUEENS</td>\n",
       "      <td>Glen Oaks</td>\n",
       "      <td>NaN</td>\n",
       "      <td>13 QUEENS</td>\n",
       "      <td>Sewer</td>\n",
       "      <td>2019-05-13T16:50:00.000</td>\n",
       "      <td>...</td>\n",
       "      <td>QUEENS</td>\n",
       "      <td>Unspecified</td>\n",
       "      <td>NaN</td>\n",
       "      <td>NaN</td>\n",
       "      <td>Open</td>\n",
       "      <td>NaN</td>\n",
       "      <td>NaN</td>\n",
       "      <td>42660564</td>\n",
       "      <td>1064245</td>\n",
       "      <td>210023</td>\n",
       "    </tr>\n",
       "    <tr>\n",
       "      <th>4</th>\n",
       "      <td>ADDRESS</td>\n",
       "      <td>DOT</td>\n",
       "      <td>Department of Transportation</td>\n",
       "      <td>4084420001</td>\n",
       "      <td>QUEENS</td>\n",
       "      <td>GLEN OAKS</td>\n",
       "      <td>NaN</td>\n",
       "      <td>13 QUEENS</td>\n",
       "      <td>Street Condition</td>\n",
       "      <td>2019-05-13T11:43:22.000</td>\n",
       "      <td>...</td>\n",
       "      <td>QUEENS</td>\n",
       "      <td>Unspecified</td>\n",
       "      <td>NaN</td>\n",
       "      <td>The Department of Transportation requires 10 d...</td>\n",
       "      <td>Open</td>\n",
       "      <td>LITTLE NECK PARKWAY</td>\n",
       "      <td>NaN</td>\n",
       "      <td>42660605</td>\n",
       "      <td>1061834</td>\n",
       "      <td>212496</td>\n",
       "    </tr>\n",
       "  </tbody>\n",
       "</table>\n",
       "<p>5 rows × 34 columns</p>\n",
       "</div>"
      ],
      "text/plain": [
       "   address_type agency                             agency_name         bbl  \\\n",
       "0       ADDRESS   NYPD         New York City Police Department  4084460001   \n",
       "1     BLOCKFACE    DOT            Department of Transportation         NaN   \n",
       "2       ADDRESS    DEP  Department of Environmental Protection  4084430237   \n",
       "3  INTERSECTION    DEP  Department of Environmental Protection         NaN   \n",
       "4       ADDRESS    DOT            Department of Transportation  4084420001   \n",
       "\n",
       "  borough       city              closed_date community_board  \\\n",
       "0  QUEENS  GLEN OAKS  2019-05-14T00:45:22.000       13 QUEENS   \n",
       "1  QUEENS  Glen Oaks                      NaN       13 QUEENS   \n",
       "2  QUEENS  Glen Oaks                      NaN       13 QUEENS   \n",
       "3  QUEENS  Glen Oaks                      NaN       13 QUEENS   \n",
       "4  QUEENS  GLEN OAKS                      NaN       13 QUEENS   \n",
       "\n",
       "        complaint_type             created_date           ...             \\\n",
       "0  Noise - Residential  2019-05-13T23:06:30.000           ...              \n",
       "1     Street Condition  2019-05-13T11:39:14.000           ...              \n",
       "2                Sewer  2019-05-13T20:50:00.000           ...              \n",
       "3                Sewer  2019-05-13T16:50:00.000           ...              \n",
       "4     Street Condition  2019-05-13T11:43:22.000           ...              \n",
       "\n",
       "  park_borough park_facility_name resolution_action_updated_date  \\\n",
       "0       QUEENS        Unspecified        2019-05-14T00:45:22.000   \n",
       "1       QUEENS        Unspecified        2019-05-13T11:39:14.000   \n",
       "2       QUEENS        Unspecified                            NaN   \n",
       "3       QUEENS        Unspecified                            NaN   \n",
       "4       QUEENS        Unspecified                            NaN   \n",
       "\n",
       "                              resolution_description  status  \\\n",
       "0  The Police Department responded to the complai...  Closed   \n",
       "1  The Department of Transportation referred this...    Open   \n",
       "2                                                NaN    Open   \n",
       "3                                                NaN    Open   \n",
       "4  The Department of Transportation requires 10 d...    Open   \n",
       "\n",
       "           street_name taxi_pick_up_location unique_key  \\\n",
       "0           260 STREET                   NaN   42663284   \n",
       "1            73 AVENUE                   NaN   42663518   \n",
       "2  LITTLE NECK PARKWAY                   NaN   42662708   \n",
       "3                  NaN                   NaN   42660564   \n",
       "4  LITTLE NECK PARKWAY                   NaN   42660605   \n",
       "\n",
       "  x_coordinate_state_plane y_coordinate_state_plane  \n",
       "0                  1062514                   212925  \n",
       "1                  1062558                   213091  \n",
       "2                  1061214                   213791  \n",
       "3                  1064245                   210023  \n",
       "4                  1061834                   212496  \n",
       "\n",
       "[5 rows x 34 columns]"
      ]
     },
     "execution_count": 26,
     "metadata": {},
     "output_type": "execute_result"
    }
   ],
   "source": [
    "\n",
    "df_1 = pd.DataFrame(results)\n",
    "\n",
    "print(len(df_1))\n",
    "print(df_1.columns)\n",
    "df_1.head()"
   ]
  },
  {
   "cell_type": "markdown",
   "metadata": {
    "slideshow": {
     "slide_type": "slide"
    }
   },
   "source": [
    "## Create a Pandas DataFrame of the Data From the Response"
   ]
  },
  {
   "cell_type": "code",
   "execution_count": 27,
   "metadata": {
    "slideshow": {
     "slide_type": "-"
    }
   },
   "outputs": [
    {
     "name": "stdout",
     "output_type": "stream",
     "text": [
      "1000\n",
      "Index(['address_type', 'agency', 'agency_name', 'bbl', 'borough', 'city',\n",
      "       'closed_date', 'community_board', 'complaint_type', 'created_date',\n",
      "       'cross_street_1', 'cross_street_2', 'descriptor', 'due_date',\n",
      "       'facility_type', 'incident_address', 'incident_zip',\n",
      "       'intersection_street_1', 'intersection_street_2', 'latitude',\n",
      "       'location', 'location_type', 'longitude', 'open_data_channel_type',\n",
      "       'park_borough', 'park_facility_name', 'resolution_action_updated_date',\n",
      "       'resolution_description', 'status', 'street_name',\n",
      "       'taxi_pick_up_location', 'unique_key', 'x_coordinate_state_plane',\n",
      "       'y_coordinate_state_plane'],\n",
      "      dtype='object')\n"
     ]
    },
    {
     "data": {
      "text/html": [
       "<div>\n",
       "<style scoped>\n",
       "    .dataframe tbody tr th:only-of-type {\n",
       "        vertical-align: middle;\n",
       "    }\n",
       "\n",
       "    .dataframe tbody tr th {\n",
       "        vertical-align: top;\n",
       "    }\n",
       "\n",
       "    .dataframe thead th {\n",
       "        text-align: right;\n",
       "    }\n",
       "</style>\n",
       "<table border=\"1\" class=\"dataframe\">\n",
       "  <thead>\n",
       "    <tr style=\"text-align: right;\">\n",
       "      <th></th>\n",
       "      <th>address_type</th>\n",
       "      <th>agency</th>\n",
       "      <th>agency_name</th>\n",
       "      <th>bbl</th>\n",
       "      <th>borough</th>\n",
       "      <th>city</th>\n",
       "      <th>closed_date</th>\n",
       "      <th>community_board</th>\n",
       "      <th>complaint_type</th>\n",
       "      <th>created_date</th>\n",
       "      <th>...</th>\n",
       "      <th>park_borough</th>\n",
       "      <th>park_facility_name</th>\n",
       "      <th>resolution_action_updated_date</th>\n",
       "      <th>resolution_description</th>\n",
       "      <th>status</th>\n",
       "      <th>street_name</th>\n",
       "      <th>taxi_pick_up_location</th>\n",
       "      <th>unique_key</th>\n",
       "      <th>x_coordinate_state_plane</th>\n",
       "      <th>y_coordinate_state_plane</th>\n",
       "    </tr>\n",
       "  </thead>\n",
       "  <tbody>\n",
       "    <tr>\n",
       "      <th>0</th>\n",
       "      <td>ADDRESS</td>\n",
       "      <td>NYPD</td>\n",
       "      <td>New York City Police Department</td>\n",
       "      <td>4084460001</td>\n",
       "      <td>QUEENS</td>\n",
       "      <td>GLEN OAKS</td>\n",
       "      <td>2019-05-14T00:45:22.000</td>\n",
       "      <td>13 QUEENS</td>\n",
       "      <td>Noise - Residential</td>\n",
       "      <td>2019-05-13T23:06:30.000</td>\n",
       "      <td>...</td>\n",
       "      <td>QUEENS</td>\n",
       "      <td>Unspecified</td>\n",
       "      <td>2019-05-14T00:45:22.000</td>\n",
       "      <td>The Police Department responded to the complai...</td>\n",
       "      <td>Closed</td>\n",
       "      <td>260 STREET</td>\n",
       "      <td>NaN</td>\n",
       "      <td>42663284</td>\n",
       "      <td>1062514</td>\n",
       "      <td>212925</td>\n",
       "    </tr>\n",
       "    <tr>\n",
       "      <th>1</th>\n",
       "      <td>BLOCKFACE</td>\n",
       "      <td>DOT</td>\n",
       "      <td>Department of Transportation</td>\n",
       "      <td>NaN</td>\n",
       "      <td>QUEENS</td>\n",
       "      <td>Glen Oaks</td>\n",
       "      <td>NaN</td>\n",
       "      <td>13 QUEENS</td>\n",
       "      <td>Street Condition</td>\n",
       "      <td>2019-05-13T11:39:14.000</td>\n",
       "      <td>...</td>\n",
       "      <td>QUEENS</td>\n",
       "      <td>Unspecified</td>\n",
       "      <td>2019-05-13T11:39:14.000</td>\n",
       "      <td>The Department of Transportation referred this...</td>\n",
       "      <td>Open</td>\n",
       "      <td>73 AVENUE</td>\n",
       "      <td>NaN</td>\n",
       "      <td>42663518</td>\n",
       "      <td>1062558</td>\n",
       "      <td>213091</td>\n",
       "    </tr>\n",
       "    <tr>\n",
       "      <th>2</th>\n",
       "      <td>ADDRESS</td>\n",
       "      <td>DEP</td>\n",
       "      <td>Department of Environmental Protection</td>\n",
       "      <td>4084430237</td>\n",
       "      <td>QUEENS</td>\n",
       "      <td>Glen Oaks</td>\n",
       "      <td>NaN</td>\n",
       "      <td>13 QUEENS</td>\n",
       "      <td>Sewer</td>\n",
       "      <td>2019-05-13T20:50:00.000</td>\n",
       "      <td>...</td>\n",
       "      <td>QUEENS</td>\n",
       "      <td>Unspecified</td>\n",
       "      <td>NaN</td>\n",
       "      <td>NaN</td>\n",
       "      <td>Open</td>\n",
       "      <td>LITTLE NECK PARKWAY</td>\n",
       "      <td>NaN</td>\n",
       "      <td>42662708</td>\n",
       "      <td>1061214</td>\n",
       "      <td>213791</td>\n",
       "    </tr>\n",
       "    <tr>\n",
       "      <th>3</th>\n",
       "      <td>INTERSECTION</td>\n",
       "      <td>DEP</td>\n",
       "      <td>Department of Environmental Protection</td>\n",
       "      <td>NaN</td>\n",
       "      <td>QUEENS</td>\n",
       "      <td>Glen Oaks</td>\n",
       "      <td>NaN</td>\n",
       "      <td>13 QUEENS</td>\n",
       "      <td>Sewer</td>\n",
       "      <td>2019-05-13T16:50:00.000</td>\n",
       "      <td>...</td>\n",
       "      <td>QUEENS</td>\n",
       "      <td>Unspecified</td>\n",
       "      <td>NaN</td>\n",
       "      <td>NaN</td>\n",
       "      <td>Open</td>\n",
       "      <td>NaN</td>\n",
       "      <td>NaN</td>\n",
       "      <td>42660564</td>\n",
       "      <td>1064245</td>\n",
       "      <td>210023</td>\n",
       "    </tr>\n",
       "    <tr>\n",
       "      <th>4</th>\n",
       "      <td>ADDRESS</td>\n",
       "      <td>DOT</td>\n",
       "      <td>Department of Transportation</td>\n",
       "      <td>4084420001</td>\n",
       "      <td>QUEENS</td>\n",
       "      <td>GLEN OAKS</td>\n",
       "      <td>NaN</td>\n",
       "      <td>13 QUEENS</td>\n",
       "      <td>Street Condition</td>\n",
       "      <td>2019-05-13T11:43:22.000</td>\n",
       "      <td>...</td>\n",
       "      <td>QUEENS</td>\n",
       "      <td>Unspecified</td>\n",
       "      <td>NaN</td>\n",
       "      <td>The Department of Transportation requires 10 d...</td>\n",
       "      <td>Open</td>\n",
       "      <td>LITTLE NECK PARKWAY</td>\n",
       "      <td>NaN</td>\n",
       "      <td>42660605</td>\n",
       "      <td>1061834</td>\n",
       "      <td>212496</td>\n",
       "    </tr>\n",
       "  </tbody>\n",
       "</table>\n",
       "<p>5 rows × 34 columns</p>\n",
       "</div>"
      ],
      "text/plain": [
       "   address_type agency                             agency_name         bbl  \\\n",
       "0       ADDRESS   NYPD         New York City Police Department  4084460001   \n",
       "1     BLOCKFACE    DOT            Department of Transportation         NaN   \n",
       "2       ADDRESS    DEP  Department of Environmental Protection  4084430237   \n",
       "3  INTERSECTION    DEP  Department of Environmental Protection         NaN   \n",
       "4       ADDRESS    DOT            Department of Transportation  4084420001   \n",
       "\n",
       "  borough       city              closed_date community_board  \\\n",
       "0  QUEENS  GLEN OAKS  2019-05-14T00:45:22.000       13 QUEENS   \n",
       "1  QUEENS  Glen Oaks                      NaN       13 QUEENS   \n",
       "2  QUEENS  Glen Oaks                      NaN       13 QUEENS   \n",
       "3  QUEENS  Glen Oaks                      NaN       13 QUEENS   \n",
       "4  QUEENS  GLEN OAKS                      NaN       13 QUEENS   \n",
       "\n",
       "        complaint_type             created_date           ...             \\\n",
       "0  Noise - Residential  2019-05-13T23:06:30.000           ...              \n",
       "1     Street Condition  2019-05-13T11:39:14.000           ...              \n",
       "2                Sewer  2019-05-13T20:50:00.000           ...              \n",
       "3                Sewer  2019-05-13T16:50:00.000           ...              \n",
       "4     Street Condition  2019-05-13T11:43:22.000           ...              \n",
       "\n",
       "  park_borough park_facility_name resolution_action_updated_date  \\\n",
       "0       QUEENS        Unspecified        2019-05-14T00:45:22.000   \n",
       "1       QUEENS        Unspecified        2019-05-13T11:39:14.000   \n",
       "2       QUEENS        Unspecified                            NaN   \n",
       "3       QUEENS        Unspecified                            NaN   \n",
       "4       QUEENS        Unspecified                            NaN   \n",
       "\n",
       "                              resolution_description  status  \\\n",
       "0  The Police Department responded to the complai...  Closed   \n",
       "1  The Department of Transportation referred this...    Open   \n",
       "2                                                NaN    Open   \n",
       "3                                                NaN    Open   \n",
       "4  The Department of Transportation requires 10 d...    Open   \n",
       "\n",
       "           street_name taxi_pick_up_location unique_key  \\\n",
       "0           260 STREET                   NaN   42663284   \n",
       "1            73 AVENUE                   NaN   42663518   \n",
       "2  LITTLE NECK PARKWAY                   NaN   42662708   \n",
       "3                  NaN                   NaN   42660564   \n",
       "4  LITTLE NECK PARKWAY                   NaN   42660605   \n",
       "\n",
       "  x_coordinate_state_plane y_coordinate_state_plane  \n",
       "0                  1062514                   212925  \n",
       "1                  1062558                   213091  \n",
       "2                  1061214                   213791  \n",
       "3                  1064245                   210023  \n",
       "4                  1061834                   212496  \n",
       "\n",
       "[5 rows x 34 columns]"
      ]
     },
     "execution_count": 27,
     "metadata": {},
     "output_type": "execute_result"
    }
   ],
   "source": [
    "df_2 = pd.DataFrame(data)\n",
    "\n",
    "print(len(df_2))\n",
    "print(df_2.columns)\n",
    "df_2.head()"
   ]
  },
  {
   "cell_type": "markdown",
   "metadata": {
    "slideshow": {
     "slide_type": "slide"
    }
   },
   "source": [
    "## Create a Histogram of the Complaint Types From Your Dataset"
   ]
  },
  {
   "cell_type": "code",
   "execution_count": 28,
   "metadata": {
    "slideshow": {
     "slide_type": "fragment"
    }
   },
   "outputs": [],
   "source": [
    "import matplotlib.pyplot as plt\n",
    "%matplotlib inline"
   ]
  },
  {
   "cell_type": "code",
   "execution_count": 29,
   "metadata": {
    "scrolled": true,
    "slideshow": {
     "slide_type": "fragment"
    }
   },
   "outputs": [
    {
     "data": {
      "text/plain": [
       "<matplotlib.axes._subplots.AxesSubplot at 0x10f3f8208>"
      ]
     },
     "execution_count": 29,
     "metadata": {},
     "output_type": "execute_result"
    },
    {
     "data": {
      "image/png": "[encoded data removed]",
      "text/plain": [
       "<Figure size 576x864 with 1 Axes>"
      ]
     },
     "metadata": {},
     "output_type": "display_data"
    }
   ],
   "source": [
    "df_2.complaint_type.value_counts().plot(kind='barh', figsize=(8,12))"
   ]
  },
  {
   "cell_type": "markdown",
   "metadata": {
    "slideshow": {
     "slide_type": "slide"
    }
   },
   "source": [
    "## If we have time:\n",
    "\n",
    "https://github.com/toddmotto/public-apis\n",
    "\n",
    "\n",
    "find a buddy, find a free api, get the key, and do a get. Try to transform the response into a df."
   ]
  },
  {
   "cell_type": "code",
   "execution_count": null,
   "metadata": {},
   "outputs": [],
   "source": []
  }
 ],
 "metadata": {
  "kernelspec": {
   "display_name": "Python 3",
   "language": "python",
   "name": "python3"
  },
  "language_info": {
   "codemirror_mode": {
    "name": "ipython",
    "version": 3
   },
   "file_extension": ".py",
   "mimetype": "text/x-python",
   "name": "python",
   "nbconvert_exporter": "python",
   "pygments_lexer": "ipython3",
   "version": "3.6.5"
  },
  "toc": {
   "base_numbering": 1,
   "nav_menu": {},
   "number_sections": true,
   "sideBar": true,
   "skip_h1_title": false,
   "title_cell": "Table of Contents",
   "title_sidebar": "Contents",
   "toc_cell": false,
   "toc_position": {},
   "toc_section_display": true,
   "toc_window_display": false
  },
  "varInspector": {
   "cols": {
    "lenName": 16,
    "lenType": 16,
    "lenVar": 40
   },
   "kernels_config": {
    "python": {
     "delete_cmd_postfix": "",
     "delete_cmd_prefix": "del ",
     "library": "var_list.py",
     "varRefreshCmd": "print(var_dic_list())"
    },
    "r": {
     "delete_cmd_postfix": ") ",
     "delete_cmd_prefix": "rm(",
     "library": "var_list.r",
     "varRefreshCmd": "cat(var_dic_list()) "
    }
   },
   "types_to_exclude": [
    "module",
    "function",
    "builtin_function_or_method",
    "instance",
    "_Feature"
   ],
   "window_display": false
  }
 },
 "nbformat": 4,
 "nbformat_minor": 2
}
